{
 "cells": [
  {
   "cell_type": "markdown",
   "id": "56163412",
   "metadata": {},
   "source": [
    "# 0. Imports and Settings"
   ]
  },
  {
   "cell_type": "code",
   "execution_count": 1,
   "id": "643ff690",
   "metadata": {
    "ExecuteTime": {
     "end_time": "2021-12-27T17:35:37.537223Z",
     "start_time": "2021-12-27T17:35:36.709216Z"
    }
   },
   "outputs": [],
   "source": [
    "import pandas as pd\n",
    "import requests\n",
    "from datetime import datetime\n",
    "from bs4 import BeautifulSoup\n",
    "import math\n",
    "\n",
    "pd.options.mode.chained_assignment = None "
   ]
  },
  {
   "cell_type": "code",
   "execution_count": 2,
   "id": "4952863d",
   "metadata": {
    "ExecuteTime": {
     "end_time": "2021-12-27T17:35:37.539928Z",
     "start_time": "2021-12-27T17:35:37.538189Z"
    }
   },
   "outputs": [],
   "source": [
    "#The headers for us to look real\n",
    "headers = {'User-Agent':'Mozilla/5.0 (Macintosh; Intel Mac OS X 10.15; rv:95.0) Gecko/20100101 Firefox/95.0'}\n",
    "\n",
    "#The home page\n",
    "home_url = 'https://books.toscrape.com/index.html'\n",
    "\n",
    "#List of categories you wish to scrap \n",
    "cats = ['Classics', 'Science Fiction', 'Humor', 'Business']"
   ]
  },
  {
   "cell_type": "markdown",
   "id": "bcf30dce",
   "metadata": {},
   "source": [
    "# 1. Functions"
   ]
  },
  {
   "cell_type": "markdown",
   "id": "37f603d7",
   "metadata": {},
   "source": [
    "## 1.1 Fetch the Categories Available"
   ]
  },
  {
   "cell_type": "code",
   "execution_count": 3,
   "id": "45065f59",
   "metadata": {
    "ExecuteTime": {
     "end_time": "2021-12-27T17:35:37.546812Z",
     "start_time": "2021-12-27T17:35:37.542231Z"
    }
   },
   "outputs": [],
   "source": [
    "#This function is to create a clean data-set of the categories, their URLs and number of books in each.\n",
    "#This is important to prevent the code from stop working in the case of layout (i.e. order) changes in the webpage.\n",
    "\n",
    "def categories_pages_urls (home_url, headers):\n",
    "    \n",
    "    #Access the page and store it\n",
    "    page = requests.get( home_url, headers=headers )\n",
    "\n",
    "    #Parse the homepage using bs4\n",
    "    soup = BeautifulSoup( page.text, 'html.parser' )\n",
    "\n",
    "    #This is where I found the list including all the categories in the sidebar\n",
    "    categories_list = soup.find( 'ul', class_='nav nav-list' ).find_all('a')\n",
    "\n",
    "    #First, I will create a set with the urls heading to the categories pages.\n",
    "    categories_urls = [p.get('href') for p in categories_list]\n",
    "\n",
    "    #Transform this list in a dataframe, excluding line one which goes for the homepage.\n",
    "    categories_urls_df = pd.DataFrame(categories_urls).iloc[1:]\n",
    "\n",
    "    #Now, I need to get a list of the categories themselves to concatenate with the previous list.\n",
    "    #Using split '\\n' because there was some weird spacing back there in the html\n",
    "    categories_titles = [p.get_text().split('\\n') for p in categories_list]\n",
    "\n",
    "    #Transforming it in a dataframe and dropping alien columns\n",
    "    categories_titles_df = pd.DataFrame(categories_titles).iloc[1:, [False, False, True, False, False]]\n",
    "\n",
    "    #Move the tables together and drop more alien columns\n",
    "    categories_location = pd.concat([categories_titles_df, categories_urls_df], axis = 1).reset_index().iloc[:, [False, True, True]]\n",
    "    categories_location.columns = ['category', 'category_url']\n",
    "\n",
    "    #remove weird 32 spacing from category names\n",
    "    for i in range(len(categories_location)):\n",
    "        categories_location['category'][i] = categories_location['category'][i][32:]\n",
    "\n",
    "    categories_location['books_in_category'] = 0\n",
    "\n",
    "    #Now, I will use a loop to get the quantity of books in each category (we are going to need it later)\n",
    "    for i in range(len(categories_location)):\n",
    "\n",
    "        url_get_cat_number = 'https://books.toscrape.com/'+categories_location.iloc[i]['category_url']\n",
    "        page = requests.get( url_get_cat_number, headers=headers )\n",
    "        soup = BeautifulSoup( page.text, 'html.parser' )\n",
    "        books_in_cat = soup.find( 'form', class_='form-horizontal' ).find('strong')\n",
    "        qty = int([p.get_text('strong') for p in books_in_cat][0])\n",
    "        categories_location.loc[i, 'books_in_category'] = qty\n",
    "        \n",
    "    return categories_location"
   ]
  },
  {
   "cell_type": "markdown",
   "id": "d243e7f4",
   "metadata": {},
   "source": [
    "## 1.2 Select only the wished categories"
   ]
  },
  {
   "cell_type": "code",
   "execution_count": 19,
   "id": "796431b0",
   "metadata": {
    "ExecuteTime": {
     "end_time": "2021-12-27T17:48:06.738463Z",
     "start_time": "2021-12-27T17:48:06.731242Z"
    }
   },
   "outputs": [],
   "source": [
    "#The input to this function (df_cats_urls_qtys) should be the return of categories_pages_urls.\n",
    "#cats should be a list of categories to be scrapped\n",
    "def cats_wish_to_scrap(df_cats_urls_qtys, cats, pagination):\n",
    "    \n",
    "    #Filter\n",
    "    boolean = df_categories_urls.category.isin(cats)\n",
    "    wish = df_categories_urls[boolean]\n",
    "    \n",
    "    #Add pagination info, we will need it later\n",
    "    wish['pages'] = 0\n",
    "    wish['pages'] = wish['books_in_category']/pagination\n",
    "    wish['pages'] = wish['pages'].apply(lambda x: int(math.ceil(x)))\n",
    "    \n",
    "    #===========================================\n",
    "    # Need to add pagination features. \n",
    "    # Suggestion: apply change \"../index.html\" to \"../page-{i}.html\" i in range(wish[pages])\n",
    "    # Update the wishlist\n",
    "    #=========================================== \n",
    "    \n",
    "    return wish"
   ]
  },
  {
   "cell_type": "markdown",
   "id": "39bb40b6",
   "metadata": {},
   "source": [
    "## 1.3  Fetch the URLs of every single book in the selected categories"
   ]
  },
  {
   "cell_type": "code",
   "execution_count": 5,
   "id": "d44f2362",
   "metadata": {
    "ExecuteTime": {
     "end_time": "2021-12-27T17:35:37.553876Z",
     "start_time": "2021-12-27T17:35:37.550612Z"
    }
   },
   "outputs": [],
   "source": [
    "#The input to this function should be the return of cats_wish_to_scrap\n",
    "\n",
    "def create_worklist_to_scrap(worklist):\n",
    "    df_worklist = pd.DataFrame()\n",
    "\n",
    "    for i in range(len(worklist)):\n",
    "        #let's start with Classics from worklist\n",
    "        url_titles = 'http://books.toscrape.com/'+ worklist.iloc[i, 1]\n",
    "\n",
    "        #Access the page and store it\n",
    "        page = requests.get( url_titles, headers=headers )\n",
    "\n",
    "        #Parse the catalogue page using the html.parser\n",
    "        soup = BeautifulSoup( page.text, 'html.parser' )\n",
    "\n",
    "        titles = soup.find('div', class_='col-sm-8 col-md-9')\n",
    "        category_is = titles.find_all('h1')\n",
    "        c = category_is[0].get_text()\n",
    "\n",
    "        url_is = titles.find_all('a')\n",
    "        titles_url = set([p.get('href') for p in url_is])\n",
    "        titles_url = list(titles_url)\n",
    "\n",
    "        df_titles_url = pd.DataFrame(titles_url)\n",
    "        df_titles_url['category'] = c\n",
    "\n",
    "        df_worklist = df_worklist.append(df_titles_url, ignore_index=True)\n",
    "        df_titles_url = df_titles_url.iloc[0:0]\n",
    "\n",
    "    df_worklist.columns = ['title_url','category']\n",
    "\n",
    "    for i in range(len(df_worklist)):\n",
    "        df_worklist['title_url'][i] = 'https://books.toscrape.com/catalogue'+df_worklist['title_url'][i][8:]\n",
    "        \n",
    "    return df_worklist"
   ]
  },
  {
   "cell_type": "markdown",
   "id": "a0f030c3",
   "metadata": {},
   "source": [
    "## 1.4 Scrap the books pages and append the data in a single dataframe"
   ]
  },
  {
   "cell_type": "code",
   "execution_count": 6,
   "id": "c84f37cb",
   "metadata": {
    "ExecuteTime": {
     "end_time": "2021-12-27T17:35:37.559005Z",
     "start_time": "2021-12-27T17:35:37.554751Z"
    }
   },
   "outputs": [],
   "source": [
    "def books_scrapping(books_to_scrap):\n",
    "    df_books_scrap = pd.DataFrame(columns=['scrap_time','book_title','book_category', 'book_upc', 'book_price', 'book_availability','book_stars'])\n",
    "\n",
    "    #the date the scrapping was held\n",
    "    scrap_time = datetime.now().strftime( '%Y-%m-%d %H:%M:%S' )\n",
    "\n",
    "    for i in range(len(books_to_scrap)):\n",
    "\n",
    "        book_url = books_to_scrap.iloc[0:]['title_url'][i]\n",
    "        \n",
    "        book_category = books_to_scrap.iloc[0:]['category'][i]\n",
    "\n",
    "        #Access the page and store it\n",
    "        page = requests.get( book_url, headers=headers )\n",
    "\n",
    "        #Parse the homepage using bs4\n",
    "        soup = BeautifulSoup( page.text, 'html.parser' )\n",
    "\n",
    "\n",
    "        #the title of the book\n",
    "        book_title = (soup.find('div', class_=\"col-sm-6 product_main\").find_all('h1')[0]).get_text()\n",
    "\n",
    "        #where most the information is:\n",
    "        book_info_table = soup.find('table', class_=\"table table-striped\").find_all('td')\n",
    "\n",
    "        #ua unique identifier for each title\n",
    "        book_upc = (book_info_table[0]).get_text()\n",
    "\n",
    "        #price excl. tax\n",
    "        book_price = (book_info_table[2]).get_text()\n",
    "\n",
    "        #quantity available\n",
    "        book_availability = (book_info_table[5]).get_text()\n",
    "        \n",
    "        #rating\n",
    "        book_rate = (soup.find('div', class_=\"col-sm-6 product_main\")).find_all('p')\n",
    "        book_stars = (book_rate[2].get('class'))[1]\n",
    "        \n",
    "        df_books_scrap.loc[i,'scrap_time'] = scrap_time\n",
    "        df_books_scrap.loc[i,'book_title'] = book_title\n",
    "        df_books_scrap.loc[i,'book_upc'] = book_upc\n",
    "        df_books_scrap.loc[i,'book_price'] = book_price\n",
    "        df_books_scrap.loc[i,'book_availability'] = book_availability\n",
    "        df_books_scrap.loc[i,'book_category'] = book_category\n",
    "        df_books_scrap.loc[i,'book_stars'] = book_stars\n",
    "        \n",
    "    return df_books_scrap"
   ]
  },
  {
   "cell_type": "markdown",
   "id": "173a76ec",
   "metadata": {},
   "source": [
    "## 1.5 Final transformations for a clean delivery"
   ]
  },
  {
   "cell_type": "code",
   "execution_count": 7,
   "id": "3c74e3e4",
   "metadata": {
    "ExecuteTime": {
     "end_time": "2021-12-27T17:35:37.562713Z",
     "start_time": "2021-12-27T17:35:37.559648Z"
    }
   },
   "outputs": [],
   "source": [
    "def data_processing(books_scrap):\n",
    "    #Change string stars to numbers\n",
    "    dic = {'One':1, 'Two':2, 'Three':3, 'Four':4, 'Five':5}\n",
    "    books_scrap['book_stars'].replace(dic, inplace=True)\n",
    "\n",
    "    #Change price to number\n",
    "    books_scrap['book_price'] = books_scrap['book_price'].apply(lambda x: x[2:])\n",
    "\n",
    "    #Turn availability data better\n",
    "    books_scrap[['book_in_stock', 'availability']] = books_scrap['book_availability'].str.split('(', 1, expand=True)\n",
    "    books_scrap[['nr_available', 'drop']] = books_scrap['availability'].str.split(' ', 1, expand=True)\n",
    "\n",
    "    books_scrap.drop(columns = ['book_availability', 'availability', 'drop'], axis = 1, inplace=True)\n",
    "    \n",
    "    return books_scrap"
   ]
  },
  {
   "cell_type": "markdown",
   "id": "ea2b4295",
   "metadata": {},
   "source": [
    "# 2. Scrapping"
   ]
  },
  {
   "cell_type": "markdown",
   "id": "2ce50cee",
   "metadata": {},
   "source": [
    "## 2.1 Website structure scrapping"
   ]
  },
  {
   "cell_type": "markdown",
   "id": "772163db",
   "metadata": {},
   "source": [
    "### 2.1.1 Get the categories in the Sidebar, their URLs and sizes for pagination"
   ]
  },
  {
   "cell_type": "code",
   "execution_count": 8,
   "id": "fba249d1",
   "metadata": {
    "ExecuteTime": {
     "end_time": "2021-12-27T17:36:18.394949Z",
     "start_time": "2021-12-27T17:35:37.563511Z"
    },
    "scrolled": false
   },
   "outputs": [],
   "source": [
    "#Use the defined function to get the clean dataframe of categories\n",
    "df_categories_urls = categories_pages_urls(home_url=home_url, headers=headers)"
   ]
  },
  {
   "cell_type": "code",
   "execution_count": 9,
   "id": "65c26f39",
   "metadata": {
    "ExecuteTime": {
     "end_time": "2021-12-27T17:36:18.412897Z",
     "start_time": "2021-12-27T17:36:18.399157Z"
    }
   },
   "outputs": [
    {
     "data": {
      "text/html": [
       "<div>\n",
       "<style scoped>\n",
       "    .dataframe tbody tr th:only-of-type {\n",
       "        vertical-align: middle;\n",
       "    }\n",
       "\n",
       "    .dataframe tbody tr th {\n",
       "        vertical-align: top;\n",
       "    }\n",
       "\n",
       "    .dataframe thead th {\n",
       "        text-align: right;\n",
       "    }\n",
       "</style>\n",
       "<table border=\"1\" class=\"dataframe\">\n",
       "  <thead>\n",
       "    <tr style=\"text-align: right;\">\n",
       "      <th></th>\n",
       "      <th>category</th>\n",
       "      <th>category_url</th>\n",
       "      <th>books_in_category</th>\n",
       "    </tr>\n",
       "  </thead>\n",
       "  <tbody>\n",
       "    <tr>\n",
       "      <th>47</th>\n",
       "      <td>Cultural</td>\n",
       "      <td>catalogue/category/books/cultural_49/index.html</td>\n",
       "      <td>1</td>\n",
       "    </tr>\n",
       "    <tr>\n",
       "      <th>11</th>\n",
       "      <td>Nonfiction</td>\n",
       "      <td>catalogue/category/books/nonfiction_13/index.html</td>\n",
       "      <td>110</td>\n",
       "    </tr>\n",
       "    <tr>\n",
       "      <th>21</th>\n",
       "      <td>Poetry</td>\n",
       "      <td>catalogue/category/books/poetry_23/index.html</td>\n",
       "      <td>19</td>\n",
       "    </tr>\n",
       "    <tr>\n",
       "      <th>9</th>\n",
       "      <td>Childrens</td>\n",
       "      <td>catalogue/category/books/childrens_11/index.html</td>\n",
       "      <td>29</td>\n",
       "    </tr>\n",
       "    <tr>\n",
       "      <th>48</th>\n",
       "      <td>Erotica</td>\n",
       "      <td>catalogue/category/books/erotica_50/index.html</td>\n",
       "      <td>1</td>\n",
       "    </tr>\n",
       "  </tbody>\n",
       "</table>\n",
       "</div>"
      ],
      "text/plain": [
       "      category                                       category_url  \\\n",
       "47    Cultural    catalogue/category/books/cultural_49/index.html   \n",
       "11  Nonfiction  catalogue/category/books/nonfiction_13/index.html   \n",
       "21      Poetry      catalogue/category/books/poetry_23/index.html   \n",
       "9    Childrens   catalogue/category/books/childrens_11/index.html   \n",
       "48     Erotica     catalogue/category/books/erotica_50/index.html   \n",
       "\n",
       "    books_in_category  \n",
       "47                  1  \n",
       "11                110  \n",
       "21                 19  \n",
       "9                  29  \n",
       "48                  1  "
      ]
     },
     "execution_count": 9,
     "metadata": {},
     "output_type": "execute_result"
    }
   ],
   "source": [
    "df_categories_urls.sample(5)"
   ]
  },
  {
   "cell_type": "code",
   "execution_count": 10,
   "id": "57ff895c",
   "metadata": {
    "ExecuteTime": {
     "end_time": "2021-12-27T17:36:18.417409Z",
     "start_time": "2021-12-27T17:36:18.413771Z"
    },
    "scrolled": true
   },
   "outputs": [],
   "source": [
    "#Select only the ones we wish to work on and add pagination info\n",
    "worklist = cats_wish_to_scrap(cats=cats, df_cats_urls_qtys=df_categories_urls, pagination=20)"
   ]
  },
  {
   "cell_type": "code",
   "execution_count": 12,
   "id": "564ae7ad",
   "metadata": {
    "ExecuteTime": {
     "end_time": "2021-12-27T17:36:54.887359Z",
     "start_time": "2021-12-27T17:36:54.878842Z"
    }
   },
   "outputs": [
    {
     "data": {
      "text/html": [
       "<div>\n",
       "<style scoped>\n",
       "    .dataframe tbody tr th:only-of-type {\n",
       "        vertical-align: middle;\n",
       "    }\n",
       "\n",
       "    .dataframe tbody tr th {\n",
       "        vertical-align: top;\n",
       "    }\n",
       "\n",
       "    .dataframe thead th {\n",
       "        text-align: right;\n",
       "    }\n",
       "</style>\n",
       "<table border=\"1\" class=\"dataframe\">\n",
       "  <thead>\n",
       "    <tr style=\"text-align: right;\">\n",
       "      <th></th>\n",
       "      <th>category</th>\n",
       "      <th>category_url</th>\n",
       "      <th>books_in_category</th>\n",
       "      <th>pages</th>\n",
       "    </tr>\n",
       "  </thead>\n",
       "  <tbody>\n",
       "    <tr>\n",
       "      <th>4</th>\n",
       "      <td>Classics</td>\n",
       "      <td>catalogue/category/books/classics_6/index.html</td>\n",
       "      <td>19</td>\n",
       "      <td>1</td>\n",
       "    </tr>\n",
       "    <tr>\n",
       "      <th>28</th>\n",
       "      <td>Humor</td>\n",
       "      <td>catalogue/category/books/humor_30/index.html</td>\n",
       "      <td>10</td>\n",
       "      <td>1</td>\n",
       "    </tr>\n",
       "    <tr>\n",
       "      <th>14</th>\n",
       "      <td>Science Fiction</td>\n",
       "      <td>catalogue/category/books/science-fiction_16/in...</td>\n",
       "      <td>16</td>\n",
       "      <td>1</td>\n",
       "    </tr>\n",
       "  </tbody>\n",
       "</table>\n",
       "</div>"
      ],
      "text/plain": [
       "           category                                       category_url  \\\n",
       "4          Classics     catalogue/category/books/classics_6/index.html   \n",
       "28            Humor       catalogue/category/books/humor_30/index.html   \n",
       "14  Science Fiction  catalogue/category/books/science-fiction_16/in...   \n",
       "\n",
       "    books_in_category  pages  \n",
       "4                  19      1  \n",
       "28                 10      1  \n",
       "14                 16      1  "
      ]
     },
     "execution_count": 12,
     "metadata": {},
     "output_type": "execute_result"
    }
   ],
   "source": [
    "worklist.sample(3)"
   ]
  },
  {
   "cell_type": "markdown",
   "id": "28abf267",
   "metadata": {},
   "source": [
    "### 2.1.2 Get the titles in each category"
   ]
  },
  {
   "cell_type": "code",
   "execution_count": 13,
   "id": "d2da7e2e",
   "metadata": {
    "ExecuteTime": {
     "end_time": "2021-12-27T17:37:00.914017Z",
     "start_time": "2021-12-27T17:36:57.664710Z"
    },
    "scrolled": true
   },
   "outputs": [],
   "source": [
    "books_to_scrap = create_worklist_to_scrap(worklist=worklist)"
   ]
  },
  {
   "cell_type": "code",
   "execution_count": 14,
   "id": "4be293df",
   "metadata": {
    "ExecuteTime": {
     "end_time": "2021-12-27T17:37:00.920103Z",
     "start_time": "2021-12-27T17:37:00.915030Z"
    }
   },
   "outputs": [
    {
     "data": {
      "text/html": [
       "<div>\n",
       "<style scoped>\n",
       "    .dataframe tbody tr th:only-of-type {\n",
       "        vertical-align: middle;\n",
       "    }\n",
       "\n",
       "    .dataframe tbody tr th {\n",
       "        vertical-align: top;\n",
       "    }\n",
       "\n",
       "    .dataframe thead th {\n",
       "        text-align: right;\n",
       "    }\n",
       "</style>\n",
       "<table border=\"1\" class=\"dataframe\">\n",
       "  <thead>\n",
       "    <tr style=\"text-align: right;\">\n",
       "      <th></th>\n",
       "      <th>title_url</th>\n",
       "      <th>category</th>\n",
       "    </tr>\n",
       "  </thead>\n",
       "  <tbody>\n",
       "    <tr>\n",
       "      <th>1</th>\n",
       "      <td>https://books.toscrape.com/catalogue/animal-fa...</td>\n",
       "      <td>Classics</td>\n",
       "    </tr>\n",
       "    <tr>\n",
       "      <th>26</th>\n",
       "      <td>https://books.toscrape.com/catalogue/do-androi...</td>\n",
       "      <td>Science Fiction</td>\n",
       "    </tr>\n",
       "    <tr>\n",
       "      <th>18</th>\n",
       "      <td>https://books.toscrape.com/catalogue/little-wo...</td>\n",
       "      <td>Classics</td>\n",
       "    </tr>\n",
       "    <tr>\n",
       "      <th>39</th>\n",
       "      <td>https://books.toscrape.com/catalogue/naked_197...</td>\n",
       "      <td>Humor</td>\n",
       "    </tr>\n",
       "    <tr>\n",
       "      <th>21</th>\n",
       "      <td>https://books.toscrape.com/catalogue/william-s...</td>\n",
       "      <td>Science Fiction</td>\n",
       "    </tr>\n",
       "  </tbody>\n",
       "</table>\n",
       "</div>"
      ],
      "text/plain": [
       "                                            title_url         category\n",
       "1   https://books.toscrape.com/catalogue/animal-fa...         Classics\n",
       "26  https://books.toscrape.com/catalogue/do-androi...  Science Fiction\n",
       "18  https://books.toscrape.com/catalogue/little-wo...         Classics\n",
       "39  https://books.toscrape.com/catalogue/naked_197...            Humor\n",
       "21  https://books.toscrape.com/catalogue/william-s...  Science Fiction"
      ]
     },
     "execution_count": 14,
     "metadata": {},
     "output_type": "execute_result"
    }
   ],
   "source": [
    "books_to_scrap.sample(5)"
   ]
  },
  {
   "cell_type": "markdown",
   "id": "8f0b5305",
   "metadata": {},
   "source": [
    "### 2.1.3 Scrap each book page to retrieve the remaining information and build the dataset"
   ]
  },
  {
   "cell_type": "code",
   "execution_count": 15,
   "id": "cdce8b60",
   "metadata": {
    "ExecuteTime": {
     "end_time": "2021-12-27T17:37:46.789399Z",
     "start_time": "2021-12-27T17:37:06.593255Z"
    },
    "scrolled": true
   },
   "outputs": [],
   "source": [
    "books_scrap = books_scrapping(books_to_scrap=books_to_scrap)"
   ]
  },
  {
   "cell_type": "code",
   "execution_count": 16,
   "id": "6473ae59",
   "metadata": {
    "ExecuteTime": {
     "end_time": "2021-12-27T17:37:46.797457Z",
     "start_time": "2021-12-27T17:37:46.790780Z"
    }
   },
   "outputs": [
    {
     "data": {
      "text/html": [
       "<div>\n",
       "<style scoped>\n",
       "    .dataframe tbody tr th:only-of-type {\n",
       "        vertical-align: middle;\n",
       "    }\n",
       "\n",
       "    .dataframe tbody tr th {\n",
       "        vertical-align: top;\n",
       "    }\n",
       "\n",
       "    .dataframe thead th {\n",
       "        text-align: right;\n",
       "    }\n",
       "</style>\n",
       "<table border=\"1\" class=\"dataframe\">\n",
       "  <thead>\n",
       "    <tr style=\"text-align: right;\">\n",
       "      <th></th>\n",
       "      <th>scrap_time</th>\n",
       "      <th>book_title</th>\n",
       "      <th>book_category</th>\n",
       "      <th>book_upc</th>\n",
       "      <th>book_price</th>\n",
       "      <th>book_availability</th>\n",
       "      <th>book_stars</th>\n",
       "    </tr>\n",
       "  </thead>\n",
       "  <tbody>\n",
       "    <tr>\n",
       "      <th>36</th>\n",
       "      <td>2021-12-27 18:37:06</td>\n",
       "      <td>Hyperbole and a Half: Unfortunate Situations, ...</td>\n",
       "      <td>Humor</td>\n",
       "      <td>fbb21a2f71f4d981</td>\n",
       "      <td>Â£14.75</td>\n",
       "      <td>In stock (14 available)</td>\n",
       "      <td>Five</td>\n",
       "    </tr>\n",
       "    <tr>\n",
       "      <th>27</th>\n",
       "      <td>2021-12-27 18:37:06</td>\n",
       "      <td>Three Wishes (River of Time: California #1)</td>\n",
       "      <td>Science Fiction</td>\n",
       "      <td>460f97a346b44bac</td>\n",
       "      <td>Â£44.18</td>\n",
       "      <td>In stock (1 available)</td>\n",
       "      <td>Two</td>\n",
       "    </tr>\n",
       "    <tr>\n",
       "      <th>53</th>\n",
       "      <td>2021-12-27 18:37:06</td>\n",
       "      <td>The Dirty Little Secrets of Getting Your Dream...</td>\n",
       "      <td>Business</td>\n",
       "      <td>2597b5a345f45e1b</td>\n",
       "      <td>Â£33.34</td>\n",
       "      <td>In stock (19 available)</td>\n",
       "      <td>Four</td>\n",
       "    </tr>\n",
       "    <tr>\n",
       "      <th>2</th>\n",
       "      <td>2021-12-27 18:37:06</td>\n",
       "      <td>Sense and Sensibility</td>\n",
       "      <td>Classics</td>\n",
       "      <td>35e44170702139a4</td>\n",
       "      <td>Â£37.46</td>\n",
       "      <td>In stock (1 available)</td>\n",
       "      <td>One</td>\n",
       "    </tr>\n",
       "    <tr>\n",
       "      <th>33</th>\n",
       "      <td>2021-12-27 18:37:06</td>\n",
       "      <td>Dune (Dune #1)</td>\n",
       "      <td>Science Fiction</td>\n",
       "      <td>36d5884d44484277</td>\n",
       "      <td>Â£54.86</td>\n",
       "      <td>In stock (3 available)</td>\n",
       "      <td>One</td>\n",
       "    </tr>\n",
       "  </tbody>\n",
       "</table>\n",
       "</div>"
      ],
      "text/plain": [
       "             scrap_time                                         book_title  \\\n",
       "36  2021-12-27 18:37:06  Hyperbole and a Half: Unfortunate Situations, ...   \n",
       "27  2021-12-27 18:37:06        Three Wishes (River of Time: California #1)   \n",
       "53  2021-12-27 18:37:06  The Dirty Little Secrets of Getting Your Dream...   \n",
       "2   2021-12-27 18:37:06                              Sense and Sensibility   \n",
       "33  2021-12-27 18:37:06                                     Dune (Dune #1)   \n",
       "\n",
       "      book_category          book_upc book_price        book_availability  \\\n",
       "36            Humor  fbb21a2f71f4d981    Â£14.75  In stock (14 available)   \n",
       "27  Science Fiction  460f97a346b44bac    Â£44.18   In stock (1 available)   \n",
       "53         Business  2597b5a345f45e1b    Â£33.34  In stock (19 available)   \n",
       "2          Classics  35e44170702139a4    Â£37.46   In stock (1 available)   \n",
       "33  Science Fiction  36d5884d44484277    Â£54.86   In stock (3 available)   \n",
       "\n",
       "   book_stars  \n",
       "36       Five  \n",
       "27        Two  \n",
       "53       Four  \n",
       "2         One  \n",
       "33        One  "
      ]
     },
     "execution_count": 16,
     "metadata": {},
     "output_type": "execute_result"
    }
   ],
   "source": [
    "books_scrap.sample(5)"
   ]
  },
  {
   "cell_type": "markdown",
   "id": "f0404189",
   "metadata": {
    "ExecuteTime": {
     "end_time": "2021-12-27T13:56:59.475130Z",
     "start_time": "2021-12-27T13:56:59.472798Z"
    }
   },
   "source": [
    "### 2.1.4 Transform the data and export the final dataset to .csv"
   ]
  },
  {
   "cell_type": "code",
   "execution_count": 17,
   "id": "d4eeabc0",
   "metadata": {
    "ExecuteTime": {
     "end_time": "2021-12-27T17:37:46.804519Z",
     "start_time": "2021-12-27T17:37:46.798895Z"
    },
    "scrolled": true
   },
   "outputs": [],
   "source": [
    "df_deliver = data_processing(books_scrap=books_scrap)"
   ]
  },
  {
   "cell_type": "code",
   "execution_count": 18,
   "id": "bc14a105",
   "metadata": {
    "ExecuteTime": {
     "end_time": "2021-12-27T17:37:46.811673Z",
     "start_time": "2021-12-27T17:37:46.806006Z"
    }
   },
   "outputs": [
    {
     "data": {
      "text/html": [
       "<div>\n",
       "<style scoped>\n",
       "    .dataframe tbody tr th:only-of-type {\n",
       "        vertical-align: middle;\n",
       "    }\n",
       "\n",
       "    .dataframe tbody tr th {\n",
       "        vertical-align: top;\n",
       "    }\n",
       "\n",
       "    .dataframe thead th {\n",
       "        text-align: right;\n",
       "    }\n",
       "</style>\n",
       "<table border=\"1\" class=\"dataframe\">\n",
       "  <thead>\n",
       "    <tr style=\"text-align: right;\">\n",
       "      <th></th>\n",
       "      <th>scrap_time</th>\n",
       "      <th>book_title</th>\n",
       "      <th>book_category</th>\n",
       "      <th>book_upc</th>\n",
       "      <th>book_price</th>\n",
       "      <th>book_stars</th>\n",
       "      <th>book_in_stock</th>\n",
       "      <th>nr_available</th>\n",
       "    </tr>\n",
       "  </thead>\n",
       "  <tbody>\n",
       "    <tr>\n",
       "      <th>30</th>\n",
       "      <td>2021-12-27 18:37:06</td>\n",
       "      <td>Join</td>\n",
       "      <td>Science Fiction</td>\n",
       "      <td>18ad3ed896c7ce05</td>\n",
       "      <td>35.67</td>\n",
       "      <td>5</td>\n",
       "      <td>In stock</td>\n",
       "      <td>16</td>\n",
       "    </tr>\n",
       "    <tr>\n",
       "      <th>27</th>\n",
       "      <td>2021-12-27 18:37:06</td>\n",
       "      <td>Three Wishes (River of Time: California #1)</td>\n",
       "      <td>Science Fiction</td>\n",
       "      <td>460f97a346b44bac</td>\n",
       "      <td>44.18</td>\n",
       "      <td>2</td>\n",
       "      <td>In stock</td>\n",
       "      <td>1</td>\n",
       "    </tr>\n",
       "    <tr>\n",
       "      <th>8</th>\n",
       "      <td>2021-12-27 18:37:06</td>\n",
       "      <td>The Picture of Dorian Gray</td>\n",
       "      <td>Classics</td>\n",
       "      <td>b9f6305a3d650e2c</td>\n",
       "      <td>29.70</td>\n",
       "      <td>2</td>\n",
       "      <td>In stock</td>\n",
       "      <td>3</td>\n",
       "    </tr>\n",
       "    <tr>\n",
       "      <th>50</th>\n",
       "      <td>2021-12-27 18:37:06</td>\n",
       "      <td>The 10% Entrepreneur: Live Your Startup Dream ...</td>\n",
       "      <td>Business</td>\n",
       "      <td>56e4f9eab2e8e674</td>\n",
       "      <td>27.55</td>\n",
       "      <td>3</td>\n",
       "      <td>In stock</td>\n",
       "      <td>15</td>\n",
       "    </tr>\n",
       "    <tr>\n",
       "      <th>35</th>\n",
       "      <td>2021-12-27 18:37:06</td>\n",
       "      <td>Toddlers Are A**holes: It's Not Your Fault</td>\n",
       "      <td>Humor</td>\n",
       "      <td>4242cc3d0437db12</td>\n",
       "      <td>25.55</td>\n",
       "      <td>1</td>\n",
       "      <td>In stock</td>\n",
       "      <td>7</td>\n",
       "    </tr>\n",
       "  </tbody>\n",
       "</table>\n",
       "</div>"
      ],
      "text/plain": [
       "             scrap_time                                         book_title  \\\n",
       "30  2021-12-27 18:37:06                                               Join   \n",
       "27  2021-12-27 18:37:06        Three Wishes (River of Time: California #1)   \n",
       "8   2021-12-27 18:37:06                         The Picture of Dorian Gray   \n",
       "50  2021-12-27 18:37:06  The 10% Entrepreneur: Live Your Startup Dream ...   \n",
       "35  2021-12-27 18:37:06         Toddlers Are A**holes: It's Not Your Fault   \n",
       "\n",
       "      book_category          book_upc book_price  book_stars book_in_stock  \\\n",
       "30  Science Fiction  18ad3ed896c7ce05      35.67           5     In stock    \n",
       "27  Science Fiction  460f97a346b44bac      44.18           2     In stock    \n",
       "8          Classics  b9f6305a3d650e2c      29.70           2     In stock    \n",
       "50         Business  56e4f9eab2e8e674      27.55           3     In stock    \n",
       "35            Humor  4242cc3d0437db12      25.55           1     In stock    \n",
       "\n",
       "   nr_available  \n",
       "30           16  \n",
       "27            1  \n",
       "8             3  \n",
       "50           15  \n",
       "35            7  "
      ]
     },
     "execution_count": 18,
     "metadata": {},
     "output_type": "execute_result"
    }
   ],
   "source": [
    "df_deliver.sample(5)"
   ]
  },
  {
   "cell_type": "code",
   "execution_count": null,
   "id": "fbb4ca47",
   "metadata": {
    "ExecuteTime": {
     "end_time": "2021-12-27T17:36:18.493457Z",
     "start_time": "2021-12-27T17:36:18.493453Z"
    }
   },
   "outputs": [],
   "source": [
    "df_deliver.to_csv('CoffeeCookies-dataset.csv')"
   ]
  }
 ],
 "metadata": {
  "kernelspec": {
   "display_name": "Python 3 (ipykernel)",
   "language": "python",
   "name": "python3"
  },
  "language_info": {
   "codemirror_mode": {
    "name": "ipython",
    "version": 3
   },
   "file_extension": ".py",
   "mimetype": "text/x-python",
   "name": "python",
   "nbconvert_exporter": "python",
   "pygments_lexer": "ipython3",
   "version": "3.9.9"
  }
 },
 "nbformat": 4,
 "nbformat_minor": 5
}
