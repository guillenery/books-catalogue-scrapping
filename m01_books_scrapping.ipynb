{
 "cells": [
  {
   "cell_type": "markdown",
   "id": "56163412",
   "metadata": {},
   "source": [
    "# 0. Imports and Settings"
   ]
  },
  {
   "cell_type": "code",
   "execution_count": 1,
   "id": "643ff690",
   "metadata": {
    "ExecuteTime": {
     "end_time": "2021-12-27T08:40:37.797706Z",
     "start_time": "2021-12-27T08:40:37.268330Z"
    }
   },
   "outputs": [],
   "source": [
    "import pandas as pd\n",
    "import requests\n",
    "from datetime import datetime\n",
    "from bs4 import BeautifulSoup\n",
    "import math\n",
    "\n",
    "pd.options.mode.chained_assignment = None "
   ]
  },
  {
   "cell_type": "code",
   "execution_count": 2,
   "id": "4952863d",
   "metadata": {
    "ExecuteTime": {
     "end_time": "2021-12-27T08:40:37.800200Z",
     "start_time": "2021-12-27T08:40:37.798622Z"
    }
   },
   "outputs": [],
   "source": [
    "#The headers for us to look real\n",
    "headers = {'User-Agent':'Mozilla/5.0 (Macintosh; Intel Mac OS X 10.15; rv:95.0) Gecko/20100101 Firefox/95.0'}\n",
    "#The home page\n",
    "home_url = 'https://books.toscrape.com/index.html'\n",
    "#List of categories you wish to scrap\n",
    "cats = ['Classics', 'Science Fiction', 'Humor', 'Business']"
   ]
  },
  {
   "cell_type": "markdown",
   "id": "bcf30dce",
   "metadata": {},
   "source": [
    "# 1. Functions"
   ]
  },
  {
   "cell_type": "code",
   "execution_count": 11,
   "id": "45065f59",
   "metadata": {
    "ExecuteTime": {
     "end_time": "2021-12-27T08:49:17.381731Z",
     "start_time": "2021-12-27T08:49:17.351679Z"
    }
   },
   "outputs": [],
   "source": [
    "#This function is to create a clean data-set of the categories, their URLs and number of books in each.\n",
    "#This is important to prevent the code from stop working in the case of layout (i.e. order) changes in the webpage.\n",
    "\n",
    "def categories_pages_urls (home_url, headers):\n",
    "    \n",
    "    #Access the page and store it\n",
    "    page = requests.get( home_url, headers=headers )\n",
    "\n",
    "    #Parse the homepage using bs4\n",
    "    soup = BeautifulSoup( page.text, 'html.parser' )\n",
    "\n",
    "    #This is where I found the list including all the categories in the sidebar\n",
    "    categories_list = soup.find( 'ul', class_='nav nav-list' ).find_all('a')\n",
    "\n",
    "    #First, I will create a set with the urls heading to the categories pages.\n",
    "    categories_urls = [p.get('href') for p in categories_list]\n",
    "\n",
    "    #Transform this list in a dataframe, excluding line one which goes for the homepage.\n",
    "    categories_urls_df = pd.DataFrame(categories_urls).iloc[1:]\n",
    "\n",
    "    #Now, I need to get a list of the categories themselves to concatenate with the previous list.\n",
    "    #Using split '\\n' because there was some weird spacing back there in the html\n",
    "    categories_titles = [p.get_text().split('\\n') for p in categories_list]\n",
    "\n",
    "    #Transforming it in a dataframe and dropping alien columns\n",
    "    categories_titles_df = pd.DataFrame(categories_titles).iloc[1:, [False, False, True, False, False]]\n",
    "\n",
    "    #Move the tables together and drop more alien columns\n",
    "    categories_location = pd.concat([categories_titles_df, categories_urls_df], axis = 1).reset_index().iloc[:, [False, True, True]]\n",
    "    categories_location.columns = ['category', 'category_url']\n",
    "\n",
    "    #remove weird 32 spacing from category names\n",
    "    for i in range(len(categories_location)):\n",
    "        categories_location['category'][i] = categories_location['category'][i][32:]\n",
    "\n",
    "    categories_location['books_in_category'] = 0\n",
    "\n",
    "    #Now, I will use a loop to get the quantity of books in each category (we are going to need it later)\n",
    "    for i in range(len(categories_location)):\n",
    "\n",
    "        url_get_cat_number = 'https://books.toscrape.com/'+categories_location.iloc[i]['category_url']\n",
    "        page = requests.get( url_get_cat_number, headers=headers )\n",
    "        soup = BeautifulSoup( page.text, 'html.parser' )\n",
    "        books_in_cat = soup.find( 'form', class_='form-horizontal' ).find('strong')\n",
    "        qty = int([p.get_text('strong') for p in books_in_cat][0])\n",
    "        categories_location.loc[i, 'books_in_category'] = qty\n",
    "        \n",
    "    return categories_location"
   ]
  },
  {
   "cell_type": "code",
   "execution_count": 12,
   "id": "796431b0",
   "metadata": {
    "ExecuteTime": {
     "end_time": "2021-12-27T08:49:19.111518Z",
     "start_time": "2021-12-27T08:49:19.102566Z"
    }
   },
   "outputs": [],
   "source": [
    "#The input to this function (df_cats_urls_qtys) should be the return of categories_pages_urls.\n",
    "#cats should be a list of categories to be scrapped\n",
    "def cats_wish_to_scrap(df_cats_urls_qtys, cats, pagination):\n",
    "    \n",
    "    #Filter\n",
    "    boolean = df_categories_urls.category.isin(cats)\n",
    "    wish = df_categories_urls[boolean]\n",
    "    \n",
    "    #Add pagination info, we will need it later\n",
    "    wish['pages'] = 0\n",
    "    wish['pages'] = wish['books_in_category']/pagination\n",
    "    wish['pages'] = wish['pages'].apply(lambda x: int(math.ceil(x)))\n",
    "    wish\n",
    "    \n",
    "    return wish"
   ]
  },
  {
   "cell_type": "code",
   "execution_count": 289,
   "id": "d44f2362",
   "metadata": {
    "ExecuteTime": {
     "end_time": "2021-12-27T11:40:24.848807Z",
     "start_time": "2021-12-27T11:40:24.835751Z"
    }
   },
   "outputs": [],
   "source": [
    "#The input to this function should be the return of cats_wish_to_scrap\n",
    "#====== NEED TO ADD PAGINATION FEATURES==========\n",
    "def create_worklist_to_scrap(worklist):\n",
    "    df_worklist = pd.DataFrame()\n",
    "\n",
    "    for i in range(len(worklist)):\n",
    "        #let's start with Classics from worklist\n",
    "        url_titles = 'http://books.toscrape.com/'+ worklist.iloc[i, 1]\n",
    "\n",
    "        #Access the page and store it\n",
    "        page = requests.get( url_titles, headers=headers )\n",
    "\n",
    "        #Parse the catalogue page using the html.parser\n",
    "        soup = BeautifulSoup( page.text, 'html.parser' )\n",
    "\n",
    "        titles = soup.find('div', class_='col-sm-8 col-md-9')\n",
    "        category_is = titles.find_all('h1')\n",
    "        c = category_is[0].get_text()\n",
    "\n",
    "        url_is = titles.find_all('a')\n",
    "        titles_url = set([p.get('href') for p in url_is])\n",
    "        titles_url = list(titles_url)\n",
    "\n",
    "        df_titles_url = pd.DataFrame(titles_url)\n",
    "        df_titles_url['category'] = c\n",
    "\n",
    "        df_worklist = df_worklist.append(df_titles_url, ignore_index=True)\n",
    "        df_titles_url = df_titles_url.iloc[0:0]\n",
    "\n",
    "    df_worklist.columns = ['title_url','category']\n",
    "\n",
    "    for i in range(len(df_worklist)):\n",
    "        df_worklist['title_url'][i] = 'https://books.toscrape.com/catalogue'+df_worklist['title_url'][i][8:]\n",
    "        \n",
    "    return df_worklist"
   ]
  },
  {
   "cell_type": "markdown",
   "id": "ea2b4295",
   "metadata": {},
   "source": [
    "# 2. Scrapping"
   ]
  },
  {
   "cell_type": "markdown",
   "id": "2ce50cee",
   "metadata": {},
   "source": [
    "## 2.1 Website structure scrapping"
   ]
  },
  {
   "cell_type": "markdown",
   "id": "772163db",
   "metadata": {},
   "source": [
    "### 2.1.1 Get the categories in the Sidebar, their URLs and sizes for pagination"
   ]
  },
  {
   "cell_type": "markdown",
   "id": "07e11291",
   "metadata": {},
   "source": [
    "This is to prevent that the script won't stop working case the layout (i.e. the order of the categories) is changed in the future."
   ]
  },
  {
   "cell_type": "code",
   "execution_count": 13,
   "id": "fba249d1",
   "metadata": {
    "ExecuteTime": {
     "end_time": "2021-12-27T08:50:02.411905Z",
     "start_time": "2021-12-27T08:49:21.488273Z"
    },
    "scrolled": false
   },
   "outputs": [],
   "source": [
    "#Use the defined function to get the clean dataframe of categories\n",
    "df_categories_urls = categories_pages_urls(home_url=home_url, headers=headers)"
   ]
  },
  {
   "cell_type": "code",
   "execution_count": 14,
   "id": "ad6375ca",
   "metadata": {
    "ExecuteTime": {
     "end_time": "2021-12-27T08:50:02.430749Z",
     "start_time": "2021-12-27T08:50:02.414111Z"
    }
   },
   "outputs": [
    {
     "data": {
      "text/html": [
       "<div>\n",
       "<style scoped>\n",
       "    .dataframe tbody tr th:only-of-type {\n",
       "        vertical-align: middle;\n",
       "    }\n",
       "\n",
       "    .dataframe tbody tr th {\n",
       "        vertical-align: top;\n",
       "    }\n",
       "\n",
       "    .dataframe thead th {\n",
       "        text-align: right;\n",
       "    }\n",
       "</style>\n",
       "<table border=\"1\" class=\"dataframe\">\n",
       "  <thead>\n",
       "    <tr style=\"text-align: right;\">\n",
       "      <th></th>\n",
       "      <th>category</th>\n",
       "      <th>category_url</th>\n",
       "      <th>books_in_category</th>\n",
       "    </tr>\n",
       "  </thead>\n",
       "  <tbody>\n",
       "    <tr>\n",
       "      <th>15</th>\n",
       "      <td>Sports and Games</td>\n",
       "      <td>catalogue/category/books/sports-and-games_17/i...</td>\n",
       "      <td>5</td>\n",
       "    </tr>\n",
       "    <tr>\n",
       "      <th>47</th>\n",
       "      <td>Cultural</td>\n",
       "      <td>catalogue/category/books/cultural_49/index.html</td>\n",
       "      <td>1</td>\n",
       "    </tr>\n",
       "    <tr>\n",
       "      <th>16</th>\n",
       "      <td>Add a comment</td>\n",
       "      <td>catalogue/category/books/add-a-comment_18/inde...</td>\n",
       "      <td>67</td>\n",
       "    </tr>\n",
       "  </tbody>\n",
       "</table>\n",
       "</div>"
      ],
      "text/plain": [
       "            category                                       category_url  \\\n",
       "15  Sports and Games  catalogue/category/books/sports-and-games_17/i...   \n",
       "47          Cultural    catalogue/category/books/cultural_49/index.html   \n",
       "16     Add a comment  catalogue/category/books/add-a-comment_18/inde...   \n",
       "\n",
       "    books_in_category  \n",
       "15                  5  \n",
       "47                  1  \n",
       "16                 67  "
      ]
     },
     "execution_count": 14,
     "metadata": {},
     "output_type": "execute_result"
    }
   ],
   "source": [
    "df_categories_urls.sample(3)"
   ]
  },
  {
   "cell_type": "code",
   "execution_count": 17,
   "id": "57ff895c",
   "metadata": {
    "ExecuteTime": {
     "end_time": "2021-12-27T08:50:34.985984Z",
     "start_time": "2021-12-27T08:50:34.974100Z"
    },
    "scrolled": true
   },
   "outputs": [
    {
     "data": {
      "text/html": [
       "<div>\n",
       "<style scoped>\n",
       "    .dataframe tbody tr th:only-of-type {\n",
       "        vertical-align: middle;\n",
       "    }\n",
       "\n",
       "    .dataframe tbody tr th {\n",
       "        vertical-align: top;\n",
       "    }\n",
       "\n",
       "    .dataframe thead th {\n",
       "        text-align: right;\n",
       "    }\n",
       "</style>\n",
       "<table border=\"1\" class=\"dataframe\">\n",
       "  <thead>\n",
       "    <tr style=\"text-align: right;\">\n",
       "      <th></th>\n",
       "      <th>category</th>\n",
       "      <th>category_url</th>\n",
       "      <th>books_in_category</th>\n",
       "      <th>pages</th>\n",
       "    </tr>\n",
       "  </thead>\n",
       "  <tbody>\n",
       "    <tr>\n",
       "      <th>33</th>\n",
       "      <td>Business</td>\n",
       "      <td>catalogue/category/books/business_35/index.html</td>\n",
       "      <td>12</td>\n",
       "      <td>1</td>\n",
       "    </tr>\n",
       "    <tr>\n",
       "      <th>4</th>\n",
       "      <td>Classics</td>\n",
       "      <td>catalogue/category/books/classics_6/index.html</td>\n",
       "      <td>19</td>\n",
       "      <td>1</td>\n",
       "    </tr>\n",
       "    <tr>\n",
       "      <th>14</th>\n",
       "      <td>Science Fiction</td>\n",
       "      <td>catalogue/category/books/science-fiction_16/in...</td>\n",
       "      <td>16</td>\n",
       "      <td>1</td>\n",
       "    </tr>\n",
       "  </tbody>\n",
       "</table>\n",
       "</div>"
      ],
      "text/plain": [
       "           category                                       category_url  \\\n",
       "33         Business    catalogue/category/books/business_35/index.html   \n",
       "4          Classics     catalogue/category/books/classics_6/index.html   \n",
       "14  Science Fiction  catalogue/category/books/science-fiction_16/in...   \n",
       "\n",
       "    books_in_category  pages  \n",
       "33                 12      1  \n",
       "4                  19      1  \n",
       "14                 16      1  "
      ]
     },
     "execution_count": 17,
     "metadata": {},
     "output_type": "execute_result"
    }
   ],
   "source": [
    "#Select only the ones we wish to work on and add pagination info\n",
    "worklist = cats_wish_to_scrap(cats=cats, df_cats_urls_qtys=df_categories_urls, pagination=20)"
   ]
  },
  {
   "cell_type": "markdown",
   "id": "28abf267",
   "metadata": {},
   "source": [
    "### 2.1.2 Get the titles in each category"
   ]
  },
  {
   "cell_type": "markdown",
   "id": "3b57a344",
   "metadata": {},
   "source": [
    "From these categories, we need to fetch the books titles from their pages"
   ]
  },
  {
   "cell_type": "code",
   "execution_count": 308,
   "id": "d2da7e2e",
   "metadata": {
    "ExecuteTime": {
     "end_time": "2021-12-27T11:58:55.141268Z",
     "start_time": "2021-12-27T11:58:52.878090Z"
    }
   },
   "outputs": [
    {
     "data": {
      "text/html": [
       "<div>\n",
       "<style scoped>\n",
       "    .dataframe tbody tr th:only-of-type {\n",
       "        vertical-align: middle;\n",
       "    }\n",
       "\n",
       "    .dataframe tbody tr th {\n",
       "        vertical-align: top;\n",
       "    }\n",
       "\n",
       "    .dataframe thead th {\n",
       "        text-align: right;\n",
       "    }\n",
       "</style>\n",
       "<table border=\"1\" class=\"dataframe\">\n",
       "  <thead>\n",
       "    <tr style=\"text-align: right;\">\n",
       "      <th></th>\n",
       "      <th>title_url</th>\n",
       "      <th>category</th>\n",
       "    </tr>\n",
       "  </thead>\n",
       "  <tbody>\n",
       "    <tr>\n",
       "      <th>0</th>\n",
       "      <td>https://books.toscrape.com/catalogue/the-story...</td>\n",
       "      <td>Classics</td>\n",
       "    </tr>\n",
       "    <tr>\n",
       "      <th>1</th>\n",
       "      <td>https://books.toscrape.com/catalogue/beowulf_1...</td>\n",
       "      <td>Classics</td>\n",
       "    </tr>\n",
       "    <tr>\n",
       "      <th>2</th>\n",
       "      <td>https://books.toscrape.com/catalogue/candide_3...</td>\n",
       "      <td>Classics</td>\n",
       "    </tr>\n",
       "    <tr>\n",
       "      <th>3</th>\n",
       "      <td>https://books.toscrape.com/catalogue/gone-with...</td>\n",
       "      <td>Classics</td>\n",
       "    </tr>\n",
       "    <tr>\n",
       "      <th>4</th>\n",
       "      <td>https://books.toscrape.com/catalogue/wuthering...</td>\n",
       "      <td>Classics</td>\n",
       "    </tr>\n",
       "  </tbody>\n",
       "</table>\n",
       "</div>"
      ],
      "text/plain": [
       "                                           title_url  category\n",
       "0  https://books.toscrape.com/catalogue/the-story...  Classics\n",
       "1  https://books.toscrape.com/catalogue/beowulf_1...  Classics\n",
       "2  https://books.toscrape.com/catalogue/candide_3...  Classics\n",
       "3  https://books.toscrape.com/catalogue/gone-with...  Classics\n",
       "4  https://books.toscrape.com/catalogue/wuthering...  Classics"
      ]
     },
     "execution_count": 308,
     "metadata": {},
     "output_type": "execute_result"
    }
   ],
   "source": [
    "books_to_scrap = create_worklist_to_scrap(worklist=worklist)\n",
    "books_to_scrap.head(5)"
   ]
  },
  {
   "cell_type": "markdown",
   "id": "8f0b5305",
   "metadata": {},
   "source": [
    "### 2.1.3 Scrap each book page to retrieve the remaining information needed"
   ]
  },
  {
   "cell_type": "code",
   "execution_count": 376,
   "id": "d0e7d0f0",
   "metadata": {
    "ExecuteTime": {
     "end_time": "2021-12-27T12:29:56.090140Z",
     "start_time": "2021-12-27T12:29:14.311423Z"
    }
   },
   "outputs": [],
   "source": [
    "df_books_scrap = pd.DataFrame(columns=['scrap_time','book_title', 'book_upc', 'book_price', 'book_availability'])\n",
    "\n",
    "#the date the scrapping was held\n",
    "scrap_time = datetime.now().strftime( '%Y-%m-%d %H:%M:%S' )\n",
    "\n",
    "for i in range(len(books_to_scrap)):\n",
    "    \n",
    "    book_url = books_to_scrap.iloc[0:]['title_url'][i]\n",
    "\n",
    "    #Access the page and store it\n",
    "    page = requests.get( book_url, headers=headers )\n",
    "\n",
    "    #Parse the homepage using bs4\n",
    "    soup = BeautifulSoup( page.text, 'html.parser' )\n",
    "\n",
    "\n",
    "    #the title of the book\n",
    "    book_title = (soup.find('div', class_=\"col-sm-6 product_main\").find_all('h1')[0]).get_text()\n",
    "\n",
    "    #where most the information is:\n",
    "    book_info_table = soup.find('table', class_=\"table table-striped\").find_all('td')\n",
    "\n",
    "    #ua unique identifier for each title\n",
    "    book_upc = (book_info_table[0]).get_text()\n",
    "\n",
    "    #price excl. tax\n",
    "    book_price = (book_info_table[2]).get_text()\n",
    "\n",
    "    #quantity available\n",
    "    book_availability = (book_info_table[5]).get_text()\n",
    "    \n",
    "    df_books_scrap.loc[i,'scrap_time'] = scrap_time\n",
    "    df_books_scrap.loc[i,'book_title'] = book_title\n",
    "    df_books_scrap.loc[i,'book_upc'] = book_upc\n",
    "    df_books_scrap.loc[i,'book_price'] = book_price\n",
    "    df_books_scrap.loc[i,'book_availability'] = book_availability\n",
    "    \n",
    "    \n",
    "    "
   ]
  },
  {
   "cell_type": "code",
   "execution_count": 378,
   "id": "cdce8b60",
   "metadata": {
    "ExecuteTime": {
     "end_time": "2021-12-27T12:30:08.795770Z",
     "start_time": "2021-12-27T12:30:08.763039Z"
    }
   },
   "outputs": [
    {
     "data": {
      "text/html": [
       "<div>\n",
       "<style scoped>\n",
       "    .dataframe tbody tr th:only-of-type {\n",
       "        vertical-align: middle;\n",
       "    }\n",
       "\n",
       "    .dataframe tbody tr th {\n",
       "        vertical-align: top;\n",
       "    }\n",
       "\n",
       "    .dataframe thead th {\n",
       "        text-align: right;\n",
       "    }\n",
       "</style>\n",
       "<table border=\"1\" class=\"dataframe\">\n",
       "  <thead>\n",
       "    <tr style=\"text-align: right;\">\n",
       "      <th></th>\n",
       "      <th>scrap_time</th>\n",
       "      <th>book_title</th>\n",
       "      <th>book_upc</th>\n",
       "      <th>book_price</th>\n",
       "      <th>book_availability</th>\n",
       "    </tr>\n",
       "  </thead>\n",
       "  <tbody>\n",
       "    <tr>\n",
       "      <th>32</th>\n",
       "      <td>2021-12-27 13:29:14</td>\n",
       "      <td>Ready Player One</td>\n",
       "      <td>2ef5dc7e278e562a</td>\n",
       "      <td>Â£19.07</td>\n",
       "      <td>In stock (3 available)</td>\n",
       "    </tr>\n",
       "    <tr>\n",
       "      <th>37</th>\n",
       "      <td>2021-12-27 13:29:14</td>\n",
       "      <td>Old School (Diary of a Wimpy Kid #10)</td>\n",
       "      <td>02b74068fa98d8a4</td>\n",
       "      <td>Â£11.83</td>\n",
       "      <td>In stock (14 available)</td>\n",
       "    </tr>\n",
       "    <tr>\n",
       "      <th>10</th>\n",
       "      <td>2021-12-27 13:29:14</td>\n",
       "      <td>And Then There Were None</td>\n",
       "      <td>cfe350b20d23b02b</td>\n",
       "      <td>Â£35.01</td>\n",
       "      <td>In stock (3 available)</td>\n",
       "    </tr>\n",
       "    <tr>\n",
       "      <th>49</th>\n",
       "      <td>2021-12-27 13:29:14</td>\n",
       "      <td>Rework</td>\n",
       "      <td>8e9dd8431170c09e</td>\n",
       "      <td>Â£44.88</td>\n",
       "      <td>In stock (3 available)</td>\n",
       "    </tr>\n",
       "    <tr>\n",
       "      <th>29</th>\n",
       "      <td>2021-12-27 13:29:14</td>\n",
       "      <td>The Last Girl (The Dominion Trilogy #1)</td>\n",
       "      <td>16c71736dae78764</td>\n",
       "      <td>Â£36.26</td>\n",
       "      <td>In stock (1 available)</td>\n",
       "    </tr>\n",
       "    <tr>\n",
       "      <th>21</th>\n",
       "      <td>2021-12-27 13:29:14</td>\n",
       "      <td>Arena</td>\n",
       "      <td>2c34f9432069b52b</td>\n",
       "      <td>Â£21.36</td>\n",
       "      <td>In stock (11 available)</td>\n",
       "    </tr>\n",
       "    <tr>\n",
       "      <th>51</th>\n",
       "      <td>2021-12-27 13:29:14</td>\n",
       "      <td>The Dirty Little Secrets of Getting Your Dream...</td>\n",
       "      <td>2597b5a345f45e1b</td>\n",
       "      <td>Â£33.34</td>\n",
       "      <td>In stock (19 available)</td>\n",
       "    </tr>\n",
       "    <tr>\n",
       "      <th>15</th>\n",
       "      <td>2021-12-27 13:29:14</td>\n",
       "      <td>The Complete Stories and Poems (The Works of E...</td>\n",
       "      <td>cad70d6ffd53912f</td>\n",
       "      <td>Â£26.78</td>\n",
       "      <td>In stock (3 available)</td>\n",
       "    </tr>\n",
       "    <tr>\n",
       "      <th>30</th>\n",
       "      <td>2021-12-27 13:29:14</td>\n",
       "      <td>Life, the Universe and Everything (Hitchhiker'...</td>\n",
       "      <td>4b3f4f151c99f472</td>\n",
       "      <td>Â£33.26</td>\n",
       "      <td>In stock (3 available)</td>\n",
       "    </tr>\n",
       "    <tr>\n",
       "      <th>24</th>\n",
       "      <td>2021-12-27 13:29:14</td>\n",
       "      <td>Foundation (Foundation (Publication Order) #1)</td>\n",
       "      <td>3fc124f59f3068e4</td>\n",
       "      <td>Â£32.42</td>\n",
       "      <td>In stock (5 available)</td>\n",
       "    </tr>\n",
       "  </tbody>\n",
       "</table>\n",
       "</div>"
      ],
      "text/plain": [
       "             scrap_time                                         book_title  \\\n",
       "32  2021-12-27 13:29:14                                   Ready Player One   \n",
       "37  2021-12-27 13:29:14              Old School (Diary of a Wimpy Kid #10)   \n",
       "10  2021-12-27 13:29:14                           And Then There Were None   \n",
       "49  2021-12-27 13:29:14                                             Rework   \n",
       "29  2021-12-27 13:29:14            The Last Girl (The Dominion Trilogy #1)   \n",
       "21  2021-12-27 13:29:14                                              Arena   \n",
       "51  2021-12-27 13:29:14  The Dirty Little Secrets of Getting Your Dream...   \n",
       "15  2021-12-27 13:29:14  The Complete Stories and Poems (The Works of E...   \n",
       "30  2021-12-27 13:29:14  Life, the Universe and Everything (Hitchhiker'...   \n",
       "24  2021-12-27 13:29:14     Foundation (Foundation (Publication Order) #1)   \n",
       "\n",
       "            book_upc book_price        book_availability  \n",
       "32  2ef5dc7e278e562a    Â£19.07   In stock (3 available)  \n",
       "37  02b74068fa98d8a4    Â£11.83  In stock (14 available)  \n",
       "10  cfe350b20d23b02b    Â£35.01   In stock (3 available)  \n",
       "49  8e9dd8431170c09e    Â£44.88   In stock (3 available)  \n",
       "29  16c71736dae78764    Â£36.26   In stock (1 available)  \n",
       "21  2c34f9432069b52b    Â£21.36  In stock (11 available)  \n",
       "51  2597b5a345f45e1b    Â£33.34  In stock (19 available)  \n",
       "15  cad70d6ffd53912f    Â£26.78   In stock (3 available)  \n",
       "30  4b3f4f151c99f472    Â£33.26   In stock (3 available)  \n",
       "24  3fc124f59f3068e4    Â£32.42   In stock (5 available)  "
      ]
     },
     "execution_count": 378,
     "metadata": {},
     "output_type": "execute_result"
    }
   ],
   "source": [
    "df_books_scrap.sample(10)"
   ]
  },
  {
   "cell_type": "code",
   "execution_count": 369,
   "id": "933d57ac",
   "metadata": {
    "ExecuteTime": {
     "end_time": "2021-12-27T12:18:21.023305Z",
     "start_time": "2021-12-27T12:18:21.019945Z"
    }
   },
   "outputs": [],
   "source": [
    "#====== COME BACK LATER TO THIS FEATURE ======\n",
    "#book_rating               from 1 to 5 \n"
   ]
  }
 ],
 "metadata": {
  "kernelspec": {
   "display_name": "Python 3 (ipykernel)",
   "language": "python",
   "name": "python3"
  },
  "language_info": {
   "codemirror_mode": {
    "name": "ipython",
    "version": 3
   },
   "file_extension": ".py",
   "mimetype": "text/x-python",
   "name": "python",
   "nbconvert_exporter": "python",
   "pygments_lexer": "ipython3",
   "version": "3.9.9"
  }
 },
 "nbformat": 4,
 "nbformat_minor": 5
}
