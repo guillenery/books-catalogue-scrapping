{
 "cells": [
  {
   "cell_type": "markdown",
   "id": "c4ec4617",
   "metadata": {},
   "source": [
    "# 0. Imports and Settings"
   ]
  },
  {
   "cell_type": "code",
   "execution_count": 1,
   "id": "643ff690",
   "metadata": {
    "ExecuteTime": {
     "end_time": "2021-12-27T08:40:37.797706Z",
     "start_time": "2021-12-27T08:40:37.268330Z"
    }
   },
   "outputs": [],
   "source": [
    "import pandas as pd\n",
    "import requests\n",
    "from datetime import datetime\n",
    "from bs4 import BeautifulSoup\n",
    "import math\n",
    "\n",
    "pd.options.mode.chained_assignment = None "
   ]
  },
  {
   "cell_type": "code",
   "execution_count": 2,
   "id": "4c834d7d",
   "metadata": {
    "ExecuteTime": {
     "end_time": "2021-12-27T08:40:37.800200Z",
     "start_time": "2021-12-27T08:40:37.798622Z"
    }
   },
   "outputs": [],
   "source": [
    "#The headers for us to look real\n",
    "headers = {'User-Agent':'Mozilla/5.0 (Macintosh; Intel Mac OS X 10.15; rv:95.0) Gecko/20100101 Firefox/95.0'}\n",
    "#The home page\n",
    "home_url = 'https://books.toscrape.com/index.html'\n",
    "#List of categories you wish to scrap\n",
    "cats = ['Classics', 'Science Fiction', 'Humor', 'Business']"
   ]
  },
  {
   "cell_type": "markdown",
   "id": "62df6ec4",
   "metadata": {},
   "source": [
    "# 1. Functions"
   ]
  },
  {
   "cell_type": "code",
   "execution_count": 11,
   "id": "ab4e5302",
   "metadata": {
    "ExecuteTime": {
     "end_time": "2021-12-27T08:49:17.381731Z",
     "start_time": "2021-12-27T08:49:17.351679Z"
    }
   },
   "outputs": [],
   "source": [
    "#This function is to create a clean data-set of the categories, their URLs and number of books in each.\n",
    "#This is important to prevent the code from stop working in the case of layout (i.e. order) changes in the webpage.\n",
    "\n",
    "def categories_pages_urls (home_url, headers):\n",
    "    \n",
    "    #Access the page and store it\n",
    "    page = requests.get( home_url, headers=headers )\n",
    "\n",
    "    #Parse the homepage using bs4\n",
    "    soup = BeautifulSoup( page.text, 'html.parser' )\n",
    "\n",
    "    #This is where I found the list including all the categories in the sidebar\n",
    "    categories_list = soup.find( 'ul', class_='nav nav-list' ).find_all('a')\n",
    "\n",
    "    #First, I will create a set with the urls heading to the categories pages.\n",
    "    categories_urls = [p.get('href') for p in categories_list]\n",
    "\n",
    "    #Transform this list in a dataframe, excluding line one which goes for the homepage.\n",
    "    categories_urls_df = pd.DataFrame(categories_urls).iloc[1:]\n",
    "\n",
    "    #Now, I need to get a list of the categories themselves to concatenate with the previous list.\n",
    "    #Using split '\\n' because there was some weird spacing back there in the html\n",
    "    categories_titles = [p.get_text().split('\\n') for p in categories_list]\n",
    "\n",
    "    #Transforming it in a dataframe and dropping alien columns\n",
    "    categories_titles_df = pd.DataFrame(categories_titles).iloc[1:, [False, False, True, False, False]]\n",
    "\n",
    "    #Move the tables together and drop more alien columns\n",
    "    categories_location = pd.concat([categories_titles_df, categories_urls_df], axis = 1).reset_index().iloc[:, [False, True, True]]\n",
    "    categories_location.columns = ['category', 'category_url']\n",
    "\n",
    "    #remove weird 32 spacing from category names\n",
    "    for i in range(len(categories_location)):\n",
    "        categories_location['category'][i] = categories_location['category'][i][32:]\n",
    "\n",
    "    categories_location['books_in_category'] = 0\n",
    "\n",
    "    #Now, I will use a loop to get the quantity of books in each category (we are going to need it later)\n",
    "    for i in range(len(categories_location)):\n",
    "\n",
    "        url_get_cat_number = 'https://books.toscrape.com/'+categories_location.iloc[i]['category_url']\n",
    "        page = requests.get( url_get_cat_number, headers=headers )\n",
    "        soup = BeautifulSoup( page.text, 'html.parser' )\n",
    "        books_in_cat = soup.find( 'form', class_='form-horizontal' ).find('strong')\n",
    "        qty = int([p.get_text('strong') for p in books_in_cat][0])\n",
    "        categories_location.loc[i, 'books_in_category'] = qty\n",
    "        \n",
    "    return categories_location"
   ]
  },
  {
   "cell_type": "code",
   "execution_count": 12,
   "id": "a24ebcb8",
   "metadata": {
    "ExecuteTime": {
     "end_time": "2021-12-27T08:49:19.111518Z",
     "start_time": "2021-12-27T08:49:19.102566Z"
    }
   },
   "outputs": [],
   "source": [
    "#The input to this function (df_cats_urls_qtys) should be the return of categories_pages_urls.\n",
    "#cats should be a list of categories to be scrapped\n",
    "def cats_wish_to_scrap(df_cats_urls_qtys, cats, pagination):\n",
    "    \n",
    "    #Filter\n",
    "    boolean = df_categories_urls.category.isin(cats)\n",
    "    wish = df_categories_urls[boolean]\n",
    "    \n",
    "    #Add pagination info, we will need it later\n",
    "    wish['pages'] = 0\n",
    "    wish['pages'] = wish['books_in_category']/pagination\n",
    "    wish['pages'] = wish['pages'].apply(lambda x: int(math.ceil(x)))\n",
    "    wish\n",
    "    \n",
    "    return wish"
   ]
  },
  {
   "cell_type": "markdown",
   "id": "d52dea8e",
   "metadata": {},
   "source": [
    "# 2. Scrapping"
   ]
  },
  {
   "cell_type": "markdown",
   "id": "7b0f00b0",
   "metadata": {},
   "source": [
    "## 2.1 Website structure scrapping"
   ]
  },
  {
   "cell_type": "markdown",
   "id": "802a87fe",
   "metadata": {},
   "source": [
    "### 2.1.1 Get the categories in the Sidebar, their URLs and sizes for pagination"
   ]
  },
  {
   "cell_type": "markdown",
   "id": "e953896d",
   "metadata": {},
   "source": [
    "This is to prevent that the script won't stop working case the layout (i.e. the order of the categories) is changed in the future."
   ]
  },
  {
   "cell_type": "code",
   "execution_count": 13,
   "id": "24ce58c3",
   "metadata": {
    "ExecuteTime": {
     "end_time": "2021-12-27T08:50:02.411905Z",
     "start_time": "2021-12-27T08:49:21.488273Z"
    },
    "scrolled": false
   },
   "outputs": [],
   "source": [
    "#Use the defined function to get the clean dataframe of categories\n",
    "df_categories_urls = categories_pages_urls(home_url=home_url, headers=headers)"
   ]
  },
  {
   "cell_type": "code",
   "execution_count": 14,
   "id": "bb405511",
   "metadata": {
    "ExecuteTime": {
     "end_time": "2021-12-27T08:50:02.430749Z",
     "start_time": "2021-12-27T08:50:02.414111Z"
    }
   },
   "outputs": [
    {
     "data": {
      "text/html": [
       "<div>\n",
       "<style scoped>\n",
       "    .dataframe tbody tr th:only-of-type {\n",
       "        vertical-align: middle;\n",
       "    }\n",
       "\n",
       "    .dataframe tbody tr th {\n",
       "        vertical-align: top;\n",
       "    }\n",
       "\n",
       "    .dataframe thead th {\n",
       "        text-align: right;\n",
       "    }\n",
       "</style>\n",
       "<table border=\"1\" class=\"dataframe\">\n",
       "  <thead>\n",
       "    <tr style=\"text-align: right;\">\n",
       "      <th></th>\n",
       "      <th>category</th>\n",
       "      <th>category_url</th>\n",
       "      <th>books_in_category</th>\n",
       "    </tr>\n",
       "  </thead>\n",
       "  <tbody>\n",
       "    <tr>\n",
       "      <th>15</th>\n",
       "      <td>Sports and Games</td>\n",
       "      <td>catalogue/category/books/sports-and-games_17/i...</td>\n",
       "      <td>5</td>\n",
       "    </tr>\n",
       "    <tr>\n",
       "      <th>47</th>\n",
       "      <td>Cultural</td>\n",
       "      <td>catalogue/category/books/cultural_49/index.html</td>\n",
       "      <td>1</td>\n",
       "    </tr>\n",
       "    <tr>\n",
       "      <th>16</th>\n",
       "      <td>Add a comment</td>\n",
       "      <td>catalogue/category/books/add-a-comment_18/inde...</td>\n",
       "      <td>67</td>\n",
       "    </tr>\n",
       "  </tbody>\n",
       "</table>\n",
       "</div>"
      ],
      "text/plain": [
       "            category                                       category_url  \\\n",
       "15  Sports and Games  catalogue/category/books/sports-and-games_17/i...   \n",
       "47          Cultural    catalogue/category/books/cultural_49/index.html   \n",
       "16     Add a comment  catalogue/category/books/add-a-comment_18/inde...   \n",
       "\n",
       "    books_in_category  \n",
       "15                  5  \n",
       "47                  1  \n",
       "16                 67  "
      ]
     },
     "execution_count": 14,
     "metadata": {},
     "output_type": "execute_result"
    }
   ],
   "source": [
    "df_categories_urls.sample(3)"
   ]
  },
  {
   "cell_type": "code",
   "execution_count": 17,
   "id": "d489f7d9",
   "metadata": {
    "ExecuteTime": {
     "end_time": "2021-12-27T08:50:34.985984Z",
     "start_time": "2021-12-27T08:50:34.974100Z"
    }
   },
   "outputs": [
    {
     "data": {
      "text/html": [
       "<div>\n",
       "<style scoped>\n",
       "    .dataframe tbody tr th:only-of-type {\n",
       "        vertical-align: middle;\n",
       "    }\n",
       "\n",
       "    .dataframe tbody tr th {\n",
       "        vertical-align: top;\n",
       "    }\n",
       "\n",
       "    .dataframe thead th {\n",
       "        text-align: right;\n",
       "    }\n",
       "</style>\n",
       "<table border=\"1\" class=\"dataframe\">\n",
       "  <thead>\n",
       "    <tr style=\"text-align: right;\">\n",
       "      <th></th>\n",
       "      <th>category</th>\n",
       "      <th>category_url</th>\n",
       "      <th>books_in_category</th>\n",
       "      <th>pages</th>\n",
       "    </tr>\n",
       "  </thead>\n",
       "  <tbody>\n",
       "    <tr>\n",
       "      <th>33</th>\n",
       "      <td>Business</td>\n",
       "      <td>catalogue/category/books/business_35/index.html</td>\n",
       "      <td>12</td>\n",
       "      <td>1</td>\n",
       "    </tr>\n",
       "    <tr>\n",
       "      <th>4</th>\n",
       "      <td>Classics</td>\n",
       "      <td>catalogue/category/books/classics_6/index.html</td>\n",
       "      <td>19</td>\n",
       "      <td>1</td>\n",
       "    </tr>\n",
       "    <tr>\n",
       "      <th>14</th>\n",
       "      <td>Science Fiction</td>\n",
       "      <td>catalogue/category/books/science-fiction_16/in...</td>\n",
       "      <td>16</td>\n",
       "      <td>1</td>\n",
       "    </tr>\n",
       "  </tbody>\n",
       "</table>\n",
       "</div>"
      ],
      "text/plain": [
       "           category                                       category_url  \\\n",
       "33         Business    catalogue/category/books/business_35/index.html   \n",
       "4          Classics     catalogue/category/books/classics_6/index.html   \n",
       "14  Science Fiction  catalogue/category/books/science-fiction_16/in...   \n",
       "\n",
       "    books_in_category  pages  \n",
       "33                 12      1  \n",
       "4                  19      1  \n",
       "14                 16      1  "
      ]
     },
     "execution_count": 17,
     "metadata": {},
     "output_type": "execute_result"
    }
   ],
   "source": [
    "#Select only the ones we wish to work on and add pagination info\n",
    "worklist = cats_wish_to_scrap(cats=cats, df_cats_urls_qtys=df_categories_urls, pagination=20)\n",
    "worklist.sample(3)"
   ]
  },
  {
   "cell_type": "markdown",
   "id": "6dd4039a",
   "metadata": {},
   "source": [
    "### 2.1.2 Get the titles in each category"
   ]
  },
  {
   "cell_type": "markdown",
   "id": "e13974ea",
   "metadata": {},
   "source": [
    "From these categories, we need to fetch the books titles from their pages"
   ]
  },
  {
   "cell_type": "code",
   "execution_count": 27,
   "id": "9afda158",
   "metadata": {
    "ExecuteTime": {
     "end_time": "2021-12-27T08:53:04.091634Z",
     "start_time": "2021-12-27T08:53:02.911418Z"
    }
   },
   "outputs": [],
   "source": [
    "#let's start with Classics from worklist\n",
    "url_titles = 'http://books.toscrape.com/'+ worklist.iloc[1, 1]\n",
    "url_titles\n",
    "\n",
    "#Access the page and store it\n",
    "page = requests.get( url_titles, headers=headers )\n",
    "    \n",
    "#Parse the catalogue page using the html.parser\n",
    "soup = BeautifulSoup( page.text, 'html.parser' )\n",
    "\n"
   ]
  },
  {
   "cell_type": "code",
   "execution_count": 47,
   "id": "513078d5",
   "metadata": {
    "ExecuteTime": {
     "end_time": "2021-12-27T08:57:46.268627Z",
     "start_time": "2021-12-27T08:57:46.256702Z"
    }
   },
   "outputs": [],
   "source": [
    "titles = soup.find('div', class_='col-sm-8 col-md-9')"
   ]
  },
  {
   "cell_type": "code",
   "execution_count": 108,
   "id": "aa5a852b",
   "metadata": {
    "ExecuteTime": {
     "end_time": "2021-12-27T09:13:36.525466Z",
     "start_time": "2021-12-27T09:13:36.519017Z"
    }
   },
   "outputs": [
    {
     "data": {
      "text/plain": [
       "'Science Fiction'"
      ]
     },
     "execution_count": 108,
     "metadata": {},
     "output_type": "execute_result"
    }
   ],
   "source": [
    "category_is = titles.find_all('h1')\n",
    "c = category_is[0].get_text()\n",
    "c"
   ]
  },
  {
   "cell_type": "code",
   "execution_count": 159,
   "id": "d3b305fb",
   "metadata": {
    "ExecuteTime": {
     "end_time": "2021-12-27T09:33:43.905396Z",
     "start_time": "2021-12-27T09:33:43.897414Z"
    }
   },
   "outputs": [
    {
     "data": {
      "text/plain": [
       "{'Arena',\n",
       " 'Do Androids Dream of Electric Sheep? (Blade Runner #1)',\n",
       " 'Dune (Dune #1)',\n",
       " 'Foundation (Foundation (Publication Order) #1)',\n",
       " \"Having the Barbarian's Baby (Ice Planet Barbarians #7.5)\",\n",
       " 'Join',\n",
       " \"Life, the Universe and Everything (Hitchhiker's Guide to the Galaxy #3)\",\n",
       " 'Mesaerion: The Best Science Fiction Stories 1800-1849',\n",
       " None,\n",
       " 'Ready Player One',\n",
       " 'Sleeping Giants (Themis Files #1)',\n",
       " 'Soft Apocalypse',\n",
       " 'The Last Girl (The Dominion Trilogy #1)',\n",
       " 'The Project',\n",
       " \"The Restaurant at the End of the Universe (Hitchhiker's Guide to the Galaxy #2)\",\n",
       " 'Three Wishes (River of Time: California #1)',\n",
       " \"William Shakespeare's Star Wars: Verily, A New Hope (William Shakespeare's Star Wars #4)\"}"
      ]
     },
     "execution_count": 159,
     "metadata": {},
     "output_type": "execute_result"
    }
   ],
   "source": [
    "title_is = titles.find_all('a')\n",
    "titles_titles = set([p.get('title') for p in title_is])\n",
    "titles_titles"
   ]
  },
  {
   "cell_type": "code",
   "execution_count": 157,
   "id": "e4f2557b",
   "metadata": {
    "ExecuteTime": {
     "end_time": "2021-12-27T09:33:36.421926Z",
     "start_time": "2021-12-27T09:33:36.415681Z"
    }
   },
   "outputs": [
    {
     "data": {
      "text/plain": [
       "{'../../../arena_587/index.html',\n",
       " '../../../do-androids-dream-of-electric-sheep-blade-runner-1_149/index.html',\n",
       " '../../../dune-dune-1_151/index.html',\n",
       " '../../../foundation-foundation-publication-order-1_375/index.html',\n",
       " '../../../having-the-barbarians-baby-ice-planet-barbarians-75_23/index.html',\n",
       " '../../../join_902/index.html',\n",
       " '../../../life-the-universe-and-everything-hitchhikers-guide-to-the-galaxy-3_189/index.html',\n",
       " '../../../mesaerion-the-best-science-fiction-stories-1800-1849_983/index.html',\n",
       " '../../../ready-player-one_209/index.html',\n",
       " '../../../sleeping-giants-themis-files-1_604/index.html',\n",
       " '../../../soft-apocalypse_833/index.html',\n",
       " '../../../the-last-girl-the-dominion-trilogy-1_70/index.html',\n",
       " '../../../the-project_856/index.html',\n",
       " '../../../the-restaurant-at-the-end-of-the-universe-hitchhikers-guide-to-the-galaxy-2_275/index.html',\n",
       " '../../../three-wishes-river-of-time-california-1_89/index.html',\n",
       " '../../../william-shakespeares-star-wars-verily-a-new-hope-william-shakespeares-star-wars-4_871/index.html'}"
      ]
     },
     "execution_count": 157,
     "metadata": {},
     "output_type": "execute_result"
    }
   ],
   "source": [
    "url_is = titles.find_all('a')\n",
    "titles_url = set([p.get('href') for p in url_is])\n",
    "titles_url "
   ]
  },
  {
   "cell_type": "code",
   "execution_count": 149,
   "id": "52e317a2",
   "metadata": {
    "ExecuteTime": {
     "end_time": "2021-12-27T09:27:46.684372Z",
     "start_time": "2021-12-27T09:27:46.660166Z"
    }
   },
   "outputs": [
    {
     "data": {
      "text/html": [
       "<div>\n",
       "<style scoped>\n",
       "    .dataframe tbody tr th:only-of-type {\n",
       "        vertical-align: middle;\n",
       "    }\n",
       "\n",
       "    .dataframe tbody tr th {\n",
       "        vertical-align: top;\n",
       "    }\n",
       "\n",
       "    .dataframe thead th {\n",
       "        text-align: right;\n",
       "    }\n",
       "</style>\n",
       "<table border=\"1\" class=\"dataframe\">\n",
       "  <thead>\n",
       "    <tr style=\"text-align: right;\">\n",
       "      <th></th>\n",
       "      <th>index</th>\n",
       "      <th>0</th>\n",
       "    </tr>\n",
       "  </thead>\n",
       "  <tbody>\n",
       "    <tr>\n",
       "      <th>0</th>\n",
       "      <td>0</td>\n",
       "      <td>Having the Barbarian's Baby (Ice Planet Barbar...</td>\n",
       "    </tr>\n",
       "    <tr>\n",
       "      <th>1</th>\n",
       "      <td>1</td>\n",
       "      <td>Sleeping Giants (Themis Files #1)</td>\n",
       "    </tr>\n",
       "    <tr>\n",
       "      <th>2</th>\n",
       "      <td>2</td>\n",
       "      <td>The Last Girl (The Dominion Trilogy #1)</td>\n",
       "    </tr>\n",
       "    <tr>\n",
       "      <th>3</th>\n",
       "      <td>3</td>\n",
       "      <td>Join</td>\n",
       "    </tr>\n",
       "    <tr>\n",
       "      <th>4</th>\n",
       "      <td>4</td>\n",
       "      <td>Dune (Dune #1)</td>\n",
       "    </tr>\n",
       "  </tbody>\n",
       "</table>\n",
       "</div>"
      ],
      "text/plain": [
       "   index                                                  0\n",
       "0      0  Having the Barbarian's Baby (Ice Planet Barbar...\n",
       "1      1                  Sleeping Giants (Themis Files #1)\n",
       "2      2            The Last Girl (The Dominion Trilogy #1)\n",
       "3      3                                               Join\n",
       "4      4                                     Dune (Dune #1)"
      ]
     },
     "execution_count": 149,
     "metadata": {},
     "output_type": "execute_result"
    }
   ],
   "source": [
    "#===== WHY IS THIS ORDERED DIFFERENTLY THAN THE LIST?======\n",
    "a = pd.DataFrame(titles_titles).reset_index()\n",
    "a.head()"
   ]
  },
  {
   "cell_type": "code",
   "execution_count": 151,
   "id": "772a7920",
   "metadata": {
    "ExecuteTime": {
     "end_time": "2021-12-27T09:28:06.009382Z",
     "start_time": "2021-12-27T09:28:06.000484Z"
    }
   },
   "outputs": [
    {
     "data": {
      "text/html": [
       "<div>\n",
       "<style scoped>\n",
       "    .dataframe tbody tr th:only-of-type {\n",
       "        vertical-align: middle;\n",
       "    }\n",
       "\n",
       "    .dataframe tbody tr th {\n",
       "        vertical-align: top;\n",
       "    }\n",
       "\n",
       "    .dataframe thead th {\n",
       "        text-align: right;\n",
       "    }\n",
       "</style>\n",
       "<table border=\"1\" class=\"dataframe\">\n",
       "  <thead>\n",
       "    <tr style=\"text-align: right;\">\n",
       "      <th></th>\n",
       "      <th>index</th>\n",
       "      <th>0</th>\n",
       "    </tr>\n",
       "  </thead>\n",
       "  <tbody>\n",
       "    <tr>\n",
       "      <th>0</th>\n",
       "      <td>0</td>\n",
       "      <td>../../../soft-apocalypse_833/index.html</td>\n",
       "    </tr>\n",
       "    <tr>\n",
       "      <th>1</th>\n",
       "      <td>1</td>\n",
       "      <td>../../../having-the-barbarians-baby-ice-planet...</td>\n",
       "    </tr>\n",
       "    <tr>\n",
       "      <th>2</th>\n",
       "      <td>2</td>\n",
       "      <td>../../../arena_587/index.html</td>\n",
       "    </tr>\n",
       "    <tr>\n",
       "      <th>3</th>\n",
       "      <td>3</td>\n",
       "      <td>../../../dune-dune-1_151/index.html</td>\n",
       "    </tr>\n",
       "    <tr>\n",
       "      <th>4</th>\n",
       "      <td>4</td>\n",
       "      <td>../../../three-wishes-river-of-time-california...</td>\n",
       "    </tr>\n",
       "  </tbody>\n",
       "</table>\n",
       "</div>"
      ],
      "text/plain": [
       "   index                                                  0\n",
       "0      0            ../../../soft-apocalypse_833/index.html\n",
       "1      1  ../../../having-the-barbarians-baby-ice-planet...\n",
       "2      2                      ../../../arena_587/index.html\n",
       "3      3                ../../../dune-dune-1_151/index.html\n",
       "4      4  ../../../three-wishes-river-of-time-california..."
      ]
     },
     "execution_count": 151,
     "metadata": {},
     "output_type": "execute_result"
    }
   ],
   "source": [
    "b = pd.DataFrame(titles_url).reset_index()\n",
    "b.head()"
   ]
  }
 ],
 "metadata": {
  "kernelspec": {
   "display_name": "Python 3 (ipykernel)",
   "language": "python",
   "name": "python3"
  },
  "language_info": {
   "codemirror_mode": {
    "name": "ipython",
    "version": 3
   },
   "file_extension": ".py",
   "mimetype": "text/x-python",
   "name": "python",
   "nbconvert_exporter": "python",
   "pygments_lexer": "ipython3",
   "version": "3.9.9"
  }
 },
 "nbformat": 4,
 "nbformat_minor": 5
}
