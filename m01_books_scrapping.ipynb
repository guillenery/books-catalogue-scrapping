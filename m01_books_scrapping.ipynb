{
 "cells": [
  {
   "cell_type": "markdown",
   "id": "bd1ac72d",
   "metadata": {},
   "source": [
    "# 0. Imports and Settings"
   ]
  },
  {
   "cell_type": "code",
   "execution_count": 294,
   "id": "643ff690",
   "metadata": {
    "ExecuteTime": {
     "end_time": "2021-12-26T23:10:15.191256Z",
     "start_time": "2021-12-26T23:10:15.186156Z"
    }
   },
   "outputs": [],
   "source": [
    "import pandas as pd\n",
    "import requests\n",
    "from datetime import datetime\n",
    "from bs4 import BeautifulSoup"
   ]
  },
  {
   "cell_type": "code",
   "execution_count": 295,
   "id": "0e9116d8",
   "metadata": {
    "ExecuteTime": {
     "end_time": "2021-12-26T23:10:15.572159Z",
     "start_time": "2021-12-26T23:10:15.568298Z"
    }
   },
   "outputs": [],
   "source": [
    "#The headers for us to look real\n",
    "headers = {'User-Agent':'Mozilla/5.0 (Macintosh; Intel Mac OS X 10.15; rv:95.0) Gecko/20100101 Firefox/95.0'}\n",
    "#The home page\n",
    "home_url = 'https://books.toscrape.com/index.html'"
   ]
  },
  {
   "cell_type": "markdown",
   "id": "08d5f462",
   "metadata": {},
   "source": [
    "# 1. Functions"
   ]
  },
  {
   "cell_type": "code",
   "execution_count": 308,
   "id": "e7e1280e",
   "metadata": {
    "ExecuteTime": {
     "end_time": "2021-12-26T23:18:19.676492Z",
     "start_time": "2021-12-26T23:18:19.655350Z"
    }
   },
   "outputs": [],
   "source": [
    "#This function is to create a list of the categories, their URLs and number of books in each.\n",
    "#This is important to prevent the code from stop working in the case of layout (i.e. order) changes in the webpage.\n",
    "\n",
    "def categories_pages_urls (home_url, headers):\n",
    "    \n",
    "    #Access the page and store it\n",
    "    page = requests.get( home_url, headers=headers )\n",
    "    \n",
    "    #Parse the homepage using bs4\n",
    "    soup = BeautifulSoup( page.text, 'html.parser' )\n",
    "    \n",
    "    #This is where I found the list including all the categories in the sidebar\n",
    "    categories = soup.find( 'ul', class_='nav nav-list' ).find_all('a')\n",
    "    \n",
    "    #First, I will create a set with the urls heading to the categories pages.\n",
    "    categories_urls = [p.get('href') for p in categories_list]\n",
    "    \n",
    "    #Transform this list in a dataframe, excluding line one which goes for the homepage.\n",
    "    categories_urls_df = pd.DataFrame(categories_urls).iloc[1:]\n",
    "    \n",
    "    #Now, I need to get a list of the categories themselves to concatenate with the previous list.\n",
    "    #Using split '\\n' because there was some weird spacing back there in the html\n",
    "    categories_titles = [p.get_text().split('\\n') for p in categories_list]\n",
    "    \n",
    "    #Transforming it in a dataframe and dropping alien columns\n",
    "    categories_titles_df = pd.DataFrame(categories_titles).iloc[1:, [False, False, True, False, False]]\n",
    "    \n",
    "    #Move the tables together and drop more alien columns\n",
    "    categories_location = pd.concat([categories_titles_df, categories_urls_df], axis = 1).reset_index().iloc[:, [False, True, True]]\n",
    "    categories_location.columns = ['category', 'category_url']\n",
    "    \n",
    "    #remove weird .. from urls\n",
    "    for i in range(len(categories_location)):\n",
    "        categories_location['category_url'][i] = categories_location['category_url'][i][2:]\n",
    "        \n",
    "    #Create category_size column including the number of books\n",
    "    #This is important to define either pagination should be used or not for each category\n",
    "    categories_location['books_in_category'] = 0\n",
    "    for i in range(len(categories_location)):\n",
    "\n",
    "        url_get_cat_number = 'https://books.toscrape.com/catalogue/category'+categories_location.iloc[i]['category_url']\n",
    "        page = requests.get( url_get_cat_number, headers=headers )\n",
    "        soup = BeautifulSoup( page.text, 'html.parser' )\n",
    "        books_in_cat = soup.find( 'form', class_='form-horizontal' ).find('strong')\n",
    "        qty = int([p.get_text('strong') for p in books_in_cat][0])\n",
    "\n",
    "        categories_location.loc[i, 'books_in_category'] = qty\n",
    "    \n",
    "    #return a nice and fine dataframe with categories, urls and number of books\n",
    "    return categories_location"
   ]
  },
  {
   "cell_type": "markdown",
   "id": "2cee97d6",
   "metadata": {},
   "source": [
    "# 2. Scrapping"
   ]
  },
  {
   "cell_type": "markdown",
   "id": "dbbafa84",
   "metadata": {},
   "source": [
    "## 2.1 Website structure scrapping"
   ]
  },
  {
   "cell_type": "markdown",
   "id": "b64993ce",
   "metadata": {},
   "source": [
    "### 2.1.1 Get the categories in the Sidebar, their URLs and sizes"
   ]
  },
  {
   "cell_type": "markdown",
   "id": "9a9a0eb4",
   "metadata": {},
   "source": [
    "This is to prevent that the script won't stop working case the layout (i.e. the order of the categories) is changed in the future."
   ]
  },
  {
   "cell_type": "code",
   "execution_count": 309,
   "id": "47e2ec7f",
   "metadata": {
    "ExecuteTime": {
     "end_time": "2021-12-26T23:19:13.287517Z",
     "start_time": "2021-12-26T23:18:31.955608Z"
    },
    "scrolled": false
   },
   "outputs": [],
   "source": [
    "#Use the defined function\n",
    "df_categories_urls = categories_pages_urls(home_url=home_url, headers=headers)"
   ]
  },
  {
   "cell_type": "code",
   "execution_count": 310,
   "id": "3859668a",
   "metadata": {
    "ExecuteTime": {
     "end_time": "2021-12-26T23:19:13.304180Z",
     "start_time": "2021-12-26T23:19:13.290976Z"
    }
   },
   "outputs": [
    {
     "data": {
      "text/html": [
       "<div>\n",
       "<style scoped>\n",
       "    .dataframe tbody tr th:only-of-type {\n",
       "        vertical-align: middle;\n",
       "    }\n",
       "\n",
       "    .dataframe tbody tr th {\n",
       "        vertical-align: top;\n",
       "    }\n",
       "\n",
       "    .dataframe thead th {\n",
       "        text-align: right;\n",
       "    }\n",
       "</style>\n",
       "<table border=\"1\" class=\"dataframe\">\n",
       "  <thead>\n",
       "    <tr style=\"text-align: right;\">\n",
       "      <th></th>\n",
       "      <th>category</th>\n",
       "      <th>category_url</th>\n",
       "      <th>books_in_category</th>\n",
       "    </tr>\n",
       "  </thead>\n",
       "  <tbody>\n",
       "    <tr>\n",
       "      <th>26</th>\n",
       "      <td>Parenting</td>\n",
       "      <td>/books/parenting_28/index.html</td>\n",
       "      <td>1</td>\n",
       "    </tr>\n",
       "    <tr>\n",
       "      <th>5</th>\n",
       "      <td>Philosophy</td>\n",
       "      <td>/books/philosophy_7/index.html</td>\n",
       "      <td>11</td>\n",
       "    </tr>\n",
       "    <tr>\n",
       "      <th>35</th>\n",
       "      <td>Thriller</td>\n",
       "      <td>/books/thriller_37/index.html</td>\n",
       "      <td>11</td>\n",
       "    </tr>\n",
       "    <tr>\n",
       "      <th>45</th>\n",
       "      <td>Health</td>\n",
       "      <td>/books/health_47/index.html</td>\n",
       "      <td>4</td>\n",
       "    </tr>\n",
       "    <tr>\n",
       "      <th>23</th>\n",
       "      <td>Art</td>\n",
       "      <td>/books/art_25/index.html</td>\n",
       "      <td>8</td>\n",
       "    </tr>\n",
       "  </tbody>\n",
       "</table>\n",
       "</div>"
      ],
      "text/plain": [
       "                                      category  \\\n",
       "26                                   Parenting   \n",
       "5                                   Philosophy   \n",
       "35                                    Thriller   \n",
       "45                                      Health   \n",
       "23                                         Art   \n",
       "\n",
       "                      category_url  books_in_category  \n",
       "26  /books/parenting_28/index.html                  1  \n",
       "5   /books/philosophy_7/index.html                 11  \n",
       "35   /books/thriller_37/index.html                 11  \n",
       "45     /books/health_47/index.html                  4  \n",
       "23        /books/art_25/index.html                  8  "
      ]
     },
     "execution_count": 310,
     "metadata": {},
     "output_type": "execute_result"
    }
   ],
   "source": [
    "df_categories_urls.sample(5)"
   ]
  }
 ],
 "metadata": {
  "kernelspec": {
   "display_name": "Python 3 (ipykernel)",
   "language": "python",
   "name": "python3"
  },
  "language_info": {
   "codemirror_mode": {
    "name": "ipython",
    "version": 3
   },
   "file_extension": ".py",
   "mimetype": "text/x-python",
   "name": "python",
   "nbconvert_exporter": "python",
   "pygments_lexer": "ipython3",
   "version": "3.9.9"
  }
 },
 "nbformat": 4,
 "nbformat_minor": 5
}
