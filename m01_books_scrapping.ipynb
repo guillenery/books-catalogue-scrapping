{
 "cells": [
  {
   "cell_type": "markdown",
   "id": "5f580852",
   "metadata": {},
   "source": [
    "# 0. Imports and Settings"
   ]
  },
  {
   "cell_type": "code",
   "execution_count": 1,
   "id": "643ff690",
   "metadata": {
    "ExecuteTime": {
     "end_time": "2021-12-27T08:40:37.797706Z",
     "start_time": "2021-12-27T08:40:37.268330Z"
    }
   },
   "outputs": [],
   "source": [
    "import pandas as pd\n",
    "import requests\n",
    "from datetime import datetime\n",
    "from bs4 import BeautifulSoup\n",
    "import math\n",
    "\n",
    "pd.options.mode.chained_assignment = None "
   ]
  },
  {
   "cell_type": "code",
   "execution_count": 2,
   "id": "5a791597",
   "metadata": {
    "ExecuteTime": {
     "end_time": "2021-12-27T08:40:37.800200Z",
     "start_time": "2021-12-27T08:40:37.798622Z"
    }
   },
   "outputs": [],
   "source": [
    "#The headers for us to look real\n",
    "headers = {'User-Agent':'Mozilla/5.0 (Macintosh; Intel Mac OS X 10.15; rv:95.0) Gecko/20100101 Firefox/95.0'}\n",
    "#The home page\n",
    "home_url = 'https://books.toscrape.com/index.html'\n",
    "#List of categories you wish to scrap\n",
    "cats = ['Classics', 'Science Fiction', 'Humor', 'Business']"
   ]
  },
  {
   "cell_type": "markdown",
   "id": "355fa97a",
   "metadata": {},
   "source": [
    "# 1. Functions"
   ]
  },
  {
   "cell_type": "code",
   "execution_count": 11,
   "id": "226cfcdc",
   "metadata": {
    "ExecuteTime": {
     "end_time": "2021-12-27T08:49:17.381731Z",
     "start_time": "2021-12-27T08:49:17.351679Z"
    }
   },
   "outputs": [],
   "source": [
    "#This function is to create a clean data-set of the categories, their URLs and number of books in each.\n",
    "#This is important to prevent the code from stop working in the case of layout (i.e. order) changes in the webpage.\n",
    "\n",
    "def categories_pages_urls (home_url, headers):\n",
    "    \n",
    "    #Access the page and store it\n",
    "    page = requests.get( home_url, headers=headers )\n",
    "\n",
    "    #Parse the homepage using bs4\n",
    "    soup = BeautifulSoup( page.text, 'html.parser' )\n",
    "\n",
    "    #This is where I found the list including all the categories in the sidebar\n",
    "    categories_list = soup.find( 'ul', class_='nav nav-list' ).find_all('a')\n",
    "\n",
    "    #First, I will create a set with the urls heading to the categories pages.\n",
    "    categories_urls = [p.get('href') for p in categories_list]\n",
    "\n",
    "    #Transform this list in a dataframe, excluding line one which goes for the homepage.\n",
    "    categories_urls_df = pd.DataFrame(categories_urls).iloc[1:]\n",
    "\n",
    "    #Now, I need to get a list of the categories themselves to concatenate with the previous list.\n",
    "    #Using split '\\n' because there was some weird spacing back there in the html\n",
    "    categories_titles = [p.get_text().split('\\n') for p in categories_list]\n",
    "\n",
    "    #Transforming it in a dataframe and dropping alien columns\n",
    "    categories_titles_df = pd.DataFrame(categories_titles).iloc[1:, [False, False, True, False, False]]\n",
    "\n",
    "    #Move the tables together and drop more alien columns\n",
    "    categories_location = pd.concat([categories_titles_df, categories_urls_df], axis = 1).reset_index().iloc[:, [False, True, True]]\n",
    "    categories_location.columns = ['category', 'category_url']\n",
    "\n",
    "    #remove weird 32 spacing from category names\n",
    "    for i in range(len(categories_location)):\n",
    "        categories_location['category'][i] = categories_location['category'][i][32:]\n",
    "\n",
    "    categories_location['books_in_category'] = 0\n",
    "\n",
    "    #Now, I will use a loop to get the quantity of books in each category (we are going to need it later)\n",
    "    for i in range(len(categories_location)):\n",
    "\n",
    "        url_get_cat_number = 'https://books.toscrape.com/'+categories_location.iloc[i]['category_url']\n",
    "        page = requests.get( url_get_cat_number, headers=headers )\n",
    "        soup = BeautifulSoup( page.text, 'html.parser' )\n",
    "        books_in_cat = soup.find( 'form', class_='form-horizontal' ).find('strong')\n",
    "        qty = int([p.get_text('strong') for p in books_in_cat][0])\n",
    "        categories_location.loc[i, 'books_in_category'] = qty\n",
    "        \n",
    "    return categories_location"
   ]
  },
  {
   "cell_type": "code",
   "execution_count": 12,
   "id": "f8440668",
   "metadata": {
    "ExecuteTime": {
     "end_time": "2021-12-27T08:49:19.111518Z",
     "start_time": "2021-12-27T08:49:19.102566Z"
    }
   },
   "outputs": [],
   "source": [
    "#The input to this function (df_cats_urls_qtys) should be the return of categories_pages_urls.\n",
    "#cats should be a list of categories to be scrapped\n",
    "def cats_wish_to_scrap(df_cats_urls_qtys, cats, pagination):\n",
    "    \n",
    "    #Filter\n",
    "    boolean = df_categories_urls.category.isin(cats)\n",
    "    wish = df_categories_urls[boolean]\n",
    "    \n",
    "    #Add pagination info, we will need it later\n",
    "    wish['pages'] = 0\n",
    "    wish['pages'] = wish['books_in_category']/pagination\n",
    "    wish['pages'] = wish['pages'].apply(lambda x: int(math.ceil(x)))\n",
    "    wish\n",
    "    \n",
    "    return wish"
   ]
  },
  {
   "cell_type": "code",
   "execution_count": 289,
   "id": "4dc44bcb",
   "metadata": {
    "ExecuteTime": {
     "end_time": "2021-12-27T11:40:24.848807Z",
     "start_time": "2021-12-27T11:40:24.835751Z"
    }
   },
   "outputs": [],
   "source": [
    "#The input to this function should be the return of cats_wish_to_scrap\n",
    "#====== NEED TO ADD PAGINATION FEATURES==========\n",
    "def create_worklist_to_scrap(worklist):\n",
    "    df_worklist = pd.DataFrame()\n",
    "\n",
    "    for i in range(len(worklist)):\n",
    "        #let's start with Classics from worklist\n",
    "        url_titles = 'http://books.toscrape.com/'+ worklist.iloc[i, 1]\n",
    "\n",
    "        #Access the page and store it\n",
    "        page = requests.get( url_titles, headers=headers )\n",
    "\n",
    "        #Parse the catalogue page using the html.parser\n",
    "        soup = BeautifulSoup( page.text, 'html.parser' )\n",
    "\n",
    "        titles = soup.find('div', class_='col-sm-8 col-md-9')\n",
    "        category_is = titles.find_all('h1')\n",
    "        c = category_is[0].get_text()\n",
    "\n",
    "        url_is = titles.find_all('a')\n",
    "        titles_url = set([p.get('href') for p in url_is])\n",
    "        titles_url = list(titles_url)\n",
    "\n",
    "        df_titles_url = pd.DataFrame(titles_url)\n",
    "        df_titles_url['category'] = c\n",
    "\n",
    "        df_worklist = df_worklist.append(df_titles_url, ignore_index=True)\n",
    "        df_titles_url = df_titles_url.iloc[0:0]\n",
    "\n",
    "    df_worklist.columns = ['title_url','category']\n",
    "\n",
    "    for i in range(len(df_worklist)):\n",
    "        df_worklist['title_url'][i] = 'https://books.toscrape.com/catalogue'+df_worklist['title_url'][i][8:]\n",
    "        \n",
    "    return df_worklist"
   ]
  },
  {
   "cell_type": "markdown",
   "id": "c1e47387",
   "metadata": {},
   "source": [
    "# 2. Scrapping"
   ]
  },
  {
   "cell_type": "markdown",
   "id": "95e1e228",
   "metadata": {},
   "source": [
    "## 2.1 Website structure scrapping"
   ]
  },
  {
   "cell_type": "markdown",
   "id": "62c15f84",
   "metadata": {},
   "source": [
    "### 2.1.1 Get the categories in the Sidebar, their URLs and sizes for pagination"
   ]
  },
  {
   "cell_type": "markdown",
   "id": "6bfae110",
   "metadata": {},
   "source": [
    "This is to prevent that the script won't stop working case the layout (i.e. the order of the categories) is changed in the future."
   ]
  },
  {
   "cell_type": "code",
   "execution_count": 13,
   "id": "0f9d834a",
   "metadata": {
    "ExecuteTime": {
     "end_time": "2021-12-27T08:50:02.411905Z",
     "start_time": "2021-12-27T08:49:21.488273Z"
    },
    "scrolled": false
   },
   "outputs": [],
   "source": [
    "#Use the defined function to get the clean dataframe of categories\n",
    "df_categories_urls = categories_pages_urls(home_url=home_url, headers=headers)"
   ]
  },
  {
   "cell_type": "code",
   "execution_count": 14,
   "id": "b73eb151",
   "metadata": {
    "ExecuteTime": {
     "end_time": "2021-12-27T08:50:02.430749Z",
     "start_time": "2021-12-27T08:50:02.414111Z"
    }
   },
   "outputs": [
    {
     "data": {
      "text/html": [
       "<div>\n",
       "<style scoped>\n",
       "    .dataframe tbody tr th:only-of-type {\n",
       "        vertical-align: middle;\n",
       "    }\n",
       "\n",
       "    .dataframe tbody tr th {\n",
       "        vertical-align: top;\n",
       "    }\n",
       "\n",
       "    .dataframe thead th {\n",
       "        text-align: right;\n",
       "    }\n",
       "</style>\n",
       "<table border=\"1\" class=\"dataframe\">\n",
       "  <thead>\n",
       "    <tr style=\"text-align: right;\">\n",
       "      <th></th>\n",
       "      <th>category</th>\n",
       "      <th>category_url</th>\n",
       "      <th>books_in_category</th>\n",
       "    </tr>\n",
       "  </thead>\n",
       "  <tbody>\n",
       "    <tr>\n",
       "      <th>15</th>\n",
       "      <td>Sports and Games</td>\n",
       "      <td>catalogue/category/books/sports-and-games_17/i...</td>\n",
       "      <td>5</td>\n",
       "    </tr>\n",
       "    <tr>\n",
       "      <th>47</th>\n",
       "      <td>Cultural</td>\n",
       "      <td>catalogue/category/books/cultural_49/index.html</td>\n",
       "      <td>1</td>\n",
       "    </tr>\n",
       "    <tr>\n",
       "      <th>16</th>\n",
       "      <td>Add a comment</td>\n",
       "      <td>catalogue/category/books/add-a-comment_18/inde...</td>\n",
       "      <td>67</td>\n",
       "    </tr>\n",
       "  </tbody>\n",
       "</table>\n",
       "</div>"
      ],
      "text/plain": [
       "            category                                       category_url  \\\n",
       "15  Sports and Games  catalogue/category/books/sports-and-games_17/i...   \n",
       "47          Cultural    catalogue/category/books/cultural_49/index.html   \n",
       "16     Add a comment  catalogue/category/books/add-a-comment_18/inde...   \n",
       "\n",
       "    books_in_category  \n",
       "15                  5  \n",
       "47                  1  \n",
       "16                 67  "
      ]
     },
     "execution_count": 14,
     "metadata": {},
     "output_type": "execute_result"
    }
   ],
   "source": [
    "df_categories_urls.sample(3)"
   ]
  },
  {
   "cell_type": "code",
   "execution_count": 17,
   "id": "76209ae4",
   "metadata": {
    "ExecuteTime": {
     "end_time": "2021-12-27T08:50:34.985984Z",
     "start_time": "2021-12-27T08:50:34.974100Z"
    },
    "scrolled": true
   },
   "outputs": [
    {
     "data": {
      "text/html": [
       "<div>\n",
       "<style scoped>\n",
       "    .dataframe tbody tr th:only-of-type {\n",
       "        vertical-align: middle;\n",
       "    }\n",
       "\n",
       "    .dataframe tbody tr th {\n",
       "        vertical-align: top;\n",
       "    }\n",
       "\n",
       "    .dataframe thead th {\n",
       "        text-align: right;\n",
       "    }\n",
       "</style>\n",
       "<table border=\"1\" class=\"dataframe\">\n",
       "  <thead>\n",
       "    <tr style=\"text-align: right;\">\n",
       "      <th></th>\n",
       "      <th>category</th>\n",
       "      <th>category_url</th>\n",
       "      <th>books_in_category</th>\n",
       "      <th>pages</th>\n",
       "    </tr>\n",
       "  </thead>\n",
       "  <tbody>\n",
       "    <tr>\n",
       "      <th>33</th>\n",
       "      <td>Business</td>\n",
       "      <td>catalogue/category/books/business_35/index.html</td>\n",
       "      <td>12</td>\n",
       "      <td>1</td>\n",
       "    </tr>\n",
       "    <tr>\n",
       "      <th>4</th>\n",
       "      <td>Classics</td>\n",
       "      <td>catalogue/category/books/classics_6/index.html</td>\n",
       "      <td>19</td>\n",
       "      <td>1</td>\n",
       "    </tr>\n",
       "    <tr>\n",
       "      <th>14</th>\n",
       "      <td>Science Fiction</td>\n",
       "      <td>catalogue/category/books/science-fiction_16/in...</td>\n",
       "      <td>16</td>\n",
       "      <td>1</td>\n",
       "    </tr>\n",
       "  </tbody>\n",
       "</table>\n",
       "</div>"
      ],
      "text/plain": [
       "           category                                       category_url  \\\n",
       "33         Business    catalogue/category/books/business_35/index.html   \n",
       "4          Classics     catalogue/category/books/classics_6/index.html   \n",
       "14  Science Fiction  catalogue/category/books/science-fiction_16/in...   \n",
       "\n",
       "    books_in_category  pages  \n",
       "33                 12      1  \n",
       "4                  19      1  \n",
       "14                 16      1  "
      ]
     },
     "execution_count": 17,
     "metadata": {},
     "output_type": "execute_result"
    }
   ],
   "source": [
    "#Select only the ones we wish to work on and add pagination info\n",
    "worklist = cats_wish_to_scrap(cats=cats, df_cats_urls_qtys=df_categories_urls, pagination=20)"
   ]
  },
  {
   "cell_type": "markdown",
   "id": "5ec787fb",
   "metadata": {},
   "source": [
    "### 2.1.2 Get the titles in each category"
   ]
  },
  {
   "cell_type": "markdown",
   "id": "ed72f6fa",
   "metadata": {},
   "source": [
    "From these categories, we need to fetch the books titles from their pages"
   ]
  },
  {
   "cell_type": "code",
   "execution_count": 291,
   "id": "adf35709",
   "metadata": {
    "ExecuteTime": {
     "end_time": "2021-12-27T11:41:19.271490Z",
     "start_time": "2021-12-27T11:41:17.166121Z"
    }
   },
   "outputs": [
    {
     "data": {
      "text/html": [
       "<div>\n",
       "<style scoped>\n",
       "    .dataframe tbody tr th:only-of-type {\n",
       "        vertical-align: middle;\n",
       "    }\n",
       "\n",
       "    .dataframe tbody tr th {\n",
       "        vertical-align: top;\n",
       "    }\n",
       "\n",
       "    .dataframe thead th {\n",
       "        text-align: right;\n",
       "    }\n",
       "</style>\n",
       "<table border=\"1\" class=\"dataframe\">\n",
       "  <thead>\n",
       "    <tr style=\"text-align: right;\">\n",
       "      <th></th>\n",
       "      <th>title_url</th>\n",
       "      <th>category</th>\n",
       "    </tr>\n",
       "  </thead>\n",
       "  <tbody>\n",
       "    <tr>\n",
       "      <th>50</th>\n",
       "      <td>https://books.toscrape.com/catalogue/the-10-en...</td>\n",
       "      <td>Business</td>\n",
       "    </tr>\n",
       "    <tr>\n",
       "      <th>20</th>\n",
       "      <td>https://books.toscrape.com/catalogue/having-th...</td>\n",
       "      <td>Science Fiction</td>\n",
       "    </tr>\n",
       "    <tr>\n",
       "      <th>53</th>\n",
       "      <td>https://books.toscrape.com/catalogue/quench-yo...</td>\n",
       "      <td>Business</td>\n",
       "    </tr>\n",
       "    <tr>\n",
       "      <th>56</th>\n",
       "      <td>https://books.toscrape.com/catalogue/born-for-...</td>\n",
       "      <td>Business</td>\n",
       "    </tr>\n",
       "    <tr>\n",
       "      <th>19</th>\n",
       "      <td>https://books.toscrape.com/catalogue/soft-apoc...</td>\n",
       "      <td>Science Fiction</td>\n",
       "    </tr>\n",
       "  </tbody>\n",
       "</table>\n",
       "</div>"
      ],
      "text/plain": [
       "                                            title_url         category\n",
       "50  https://books.toscrape.com/catalogue/the-10-en...         Business\n",
       "20  https://books.toscrape.com/catalogue/having-th...  Science Fiction\n",
       "53  https://books.toscrape.com/catalogue/quench-yo...         Business\n",
       "56  https://books.toscrape.com/catalogue/born-for-...         Business\n",
       "19  https://books.toscrape.com/catalogue/soft-apoc...  Science Fiction"
      ]
     },
     "execution_count": 291,
     "metadata": {},
     "output_type": "execute_result"
    }
   ],
   "source": [
    "books_to_scrap = create_worklist_to_scrap(worklist=worklist)\n",
    "books_to_scrap.sample(5)"
   ]
  },
  {
   "cell_type": "markdown",
   "id": "a32a8c76",
   "metadata": {},
   "source": [
    "### 2.1.3 Scrap each book page for the remaining information needed"
   ]
  },
  {
   "cell_type": "code",
   "execution_count": null,
   "id": "1ab0c4d2",
   "metadata": {},
   "outputs": [],
   "source": []
  }
 ],
 "metadata": {
  "kernelspec": {
   "display_name": "Python 3 (ipykernel)",
   "language": "python",
   "name": "python3"
  },
  "language_info": {
   "codemirror_mode": {
    "name": "ipython",
    "version": 3
   },
   "file_extension": ".py",
   "mimetype": "text/x-python",
   "name": "python",
   "nbconvert_exporter": "python",
   "pygments_lexer": "ipython3",
   "version": "3.9.9"
  }
 },
 "nbformat": 4,
 "nbformat_minor": 5
}
